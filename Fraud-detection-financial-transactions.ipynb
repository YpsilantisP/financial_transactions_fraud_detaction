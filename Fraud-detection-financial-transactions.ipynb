{
 "cells": [
  {
   "cell_type": "markdown",
   "metadata": {},
   "source": [
    "# Credit card fraud transactions detection & classifiers comparison "
   ]
  },
  {
   "cell_type": "markdown",
   "metadata": {},
   "source": [
    "## Case study"
   ]
  },
  {
   "cell_type": "markdown",
   "metadata": {},
   "source": [
    "The client (bank) decided to invest in a new prediction model for potential fraudulent transactions detection.<br>\n",
    "For the provided dataset each record constitutes a set of attributes for each transaction with a flag of either being normal or fraudulent.<br>\n",
    "Fraudulent cases constitute a small percentage of the overall transactions.<br>\n",
    "\n",
    "\n",
    "Each time the predictive model results in false positive prediction (predicted fraud but was normal transaction) the bank loses its good reputation (satisfactory ratings) and around £1k.<br>\n",
    "They have an annual allowance budget £30k to cover these cases. \n",
    "\n",
    "\n",
    "Each false negative case (predicted normal transaction but was fraud) harm the bank’s reputation and cost £10 each.<br>\n",
    "The annual allowance for these cases is £50k.\n",
    "\n",
    "\n",
    "Requirements: \n",
    "\n",
    "1. Predict more than 90% of actual fraudulent cases \n",
    "2. Ensure that at least 70% of the predicted cases are actually fraudulent.\n",
    "\n",
    "<br><br>"
   ]
  },
  {
   "cell_type": "markdown",
   "metadata": {},
   "source": [
    "## Aims, objectives and plan"
   ]
  },
  {
   "cell_type": "markdown",
   "metadata": {},
   "source": [
    "\n",
    "\n",
    "The **ultimate goal** of the project is to detect anomalies in financial transactions; specifically credit card transactions.\n",
    "The secondary goals are: \n",
    "* Complete the project within the allocated budget which is £1 million. \n",
    "* Capture >90% of the fraudulent cases from the actual cases that are fraudulent transactions.\n",
    "* The model's performance in predicting fraudulent cases is to give a 70% probability of the predicted cases to be actually fraudulent. This translates to a Precision score of >70%.\n",
    "\n",
    "\n",
    "The **main objective** that will help to achieve this is to build the machine learning model to detect these anomalies/ potential fraudulent transactions.\n",
    "\n",
    "Other objectives that will help to succeed in the goal of the project are:  \n",
    "* Minimise the transactions that are detected as fraudulent but in reality are not - minimise false positive cases.\n",
    "* Minimise the transactions that are detected as not fraudulent but in reality they are - minimise false negative cases.\n",
    "* Constraint the maximum count of false negatives to 5.\n",
    "* Constraint the maximum count of false positives to 30."
   ]
  },
  {
   "cell_type": "markdown",
   "metadata": {},
   "source": [
    "## Imports"
   ]
  },
  {
   "cell_type": "code",
   "execution_count": 1,
   "metadata": {},
   "outputs": [],
   "source": [
    "import numpy as np\n",
    "import pandas as pd\n",
    "import matplotlib.pyplot as plt \n",
    "from sklearn.ensemble import RandomForestClassifier\n",
    "from sklearn.preprocessing import StandardScaler\n",
    "from sklearn.model_selection import StratifiedKFold, cross_val_score\n",
    "from sklearn.neighbors import KNeighborsClassifier\n",
    "from sklearn.model_selection import train_test_split\n",
    "from sklearn.metrics import confusion_matrix, classification_report, roc_curve, roc_auc_score, f1_score, precision_recall_fscore_support\n",
    "from sklearn.model_selection import GridSearchCV\n",
    "np.random.seed(42)\n"
   ]
  },
  {
   "cell_type": "code",
   "execution_count": 2,
   "metadata": {},
   "outputs": [
    {
     "data": {
      "text/html": [
       "<div>\n",
       "<style scoped>\n",
       "    .dataframe tbody tr th:only-of-type {\n",
       "        vertical-align: middle;\n",
       "    }\n",
       "\n",
       "    .dataframe tbody tr th {\n",
       "        vertical-align: top;\n",
       "    }\n",
       "\n",
       "    .dataframe thead th {\n",
       "        text-align: right;\n",
       "    }\n",
       "</style>\n",
       "<table border=\"1\" class=\"dataframe\">\n",
       "  <thead>\n",
       "    <tr style=\"text-align: right;\">\n",
       "      <th></th>\n",
       "      <th>Time</th>\n",
       "      <th>V1</th>\n",
       "      <th>V2</th>\n",
       "      <th>V3</th>\n",
       "      <th>V4</th>\n",
       "      <th>V5</th>\n",
       "      <th>V6</th>\n",
       "      <th>V7</th>\n",
       "      <th>V8</th>\n",
       "      <th>V9</th>\n",
       "      <th>...</th>\n",
       "      <th>V22</th>\n",
       "      <th>V23</th>\n",
       "      <th>V24</th>\n",
       "      <th>V25</th>\n",
       "      <th>V26</th>\n",
       "      <th>V27</th>\n",
       "      <th>V28</th>\n",
       "      <th>V28.1</th>\n",
       "      <th>Amount</th>\n",
       "      <th>Normal</th>\n",
       "    </tr>\n",
       "  </thead>\n",
       "  <tbody>\n",
       "    <tr>\n",
       "      <th>0</th>\n",
       "      <td>18088</td>\n",
       "      <td>NaN</td>\n",
       "      <td>3.854150</td>\n",
       "      <td>-12.466766</td>\n",
       "      <td>9.648311</td>\n",
       "      <td>-2.726961</td>\n",
       "      <td>-4.445610</td>\n",
       "      <td>-21.922811</td>\n",
       "      <td>0.320792</td>\n",
       "      <td>-4.433162</td>\n",
       "      <td>...</td>\n",
       "      <td>-1.504119</td>\n",
       "      <td>-19.254328</td>\n",
       "      <td>0.544867</td>\n",
       "      <td>-4.781606</td>\n",
       "      <td>-0.007772</td>\n",
       "      <td>3.052358</td>\n",
       "      <td>-0.775036</td>\n",
       "      <td>-0.775036</td>\n",
       "      <td>1218.89</td>\n",
       "      <td>0</td>\n",
       "    </tr>\n",
       "    <tr>\n",
       "      <th>1</th>\n",
       "      <td>101051</td>\n",
       "      <td>NaN</td>\n",
       "      <td>-1.093377</td>\n",
       "      <td>-0.059768</td>\n",
       "      <td>1.064785</td>\n",
       "      <td>11.095089</td>\n",
       "      <td>-5.430971</td>\n",
       "      <td>-9.378025</td>\n",
       "      <td>-0.446456</td>\n",
       "      <td>1.992110</td>\n",
       "      <td>...</td>\n",
       "      <td>-1.259697</td>\n",
       "      <td>-15.981649</td>\n",
       "      <td>-0.883670</td>\n",
       "      <td>-3.536716</td>\n",
       "      <td>-0.592965</td>\n",
       "      <td>0.675525</td>\n",
       "      <td>0.424849</td>\n",
       "      <td>0.424849</td>\n",
       "      <td>0.92</td>\n",
       "      <td>0</td>\n",
       "    </tr>\n",
       "    <tr>\n",
       "      <th>2</th>\n",
       "      <td>132688</td>\n",
       "      <td>NaN</td>\n",
       "      <td>1.861373</td>\n",
       "      <td>-4.310353</td>\n",
       "      <td>2.448080</td>\n",
       "      <td>4.574094</td>\n",
       "      <td>-2.979912</td>\n",
       "      <td>-2.792379</td>\n",
       "      <td>-2.719867</td>\n",
       "      <td>-0.276704</td>\n",
       "      <td>...</td>\n",
       "      <td>-0.348904</td>\n",
       "      <td>-3.979948</td>\n",
       "      <td>-0.828156</td>\n",
       "      <td>-2.419446</td>\n",
       "      <td>-0.767070</td>\n",
       "      <td>0.387039</td>\n",
       "      <td>0.319402</td>\n",
       "      <td>0.319402</td>\n",
       "      <td>1.00</td>\n",
       "      <td>0</td>\n",
       "    </tr>\n",
       "    <tr>\n",
       "      <th>3</th>\n",
       "      <td>95559</td>\n",
       "      <td>NaN</td>\n",
       "      <td>11.614801</td>\n",
       "      <td>-19.739386</td>\n",
       "      <td>10.463866</td>\n",
       "      <td>-12.599146</td>\n",
       "      <td>-1.202393</td>\n",
       "      <td>-23.380508</td>\n",
       "      <td>-5.781133</td>\n",
       "      <td>-7.811022</td>\n",
       "      <td>...</td>\n",
       "      <td>1.140910</td>\n",
       "      <td>1.392953</td>\n",
       "      <td>0.348997</td>\n",
       "      <td>-2.167510</td>\n",
       "      <td>-0.798754</td>\n",
       "      <td>-2.942775</td>\n",
       "      <td>-0.462680</td>\n",
       "      <td>-0.462680</td>\n",
       "      <td>1.63</td>\n",
       "      <td>0</td>\n",
       "    </tr>\n",
       "    <tr>\n",
       "      <th>4</th>\n",
       "      <td>58642</td>\n",
       "      <td>-0.451383</td>\n",
       "      <td>2.225147</td>\n",
       "      <td>-4.953050</td>\n",
       "      <td>4.342228</td>\n",
       "      <td>-3.656190</td>\n",
       "      <td>-0.020121</td>\n",
       "      <td>-5.407554</td>\n",
       "      <td>-0.748436</td>\n",
       "      <td>-1.362198</td>\n",
       "      <td>...</td>\n",
       "      <td>0.495889</td>\n",
       "      <td>1.154128</td>\n",
       "      <td>-0.016186</td>\n",
       "      <td>-2.079928</td>\n",
       "      <td>-0.554377</td>\n",
       "      <td>0.455179</td>\n",
       "      <td>0.001321</td>\n",
       "      <td>0.001321</td>\n",
       "      <td>113.92</td>\n",
       "      <td>0</td>\n",
       "    </tr>\n",
       "  </tbody>\n",
       "</table>\n",
       "<p>5 rows × 32 columns</p>\n",
       "</div>"
      ],
      "text/plain": [
       "     Time        V1         V2         V3         V4         V5        V6  \\\n",
       "0   18088       NaN   3.854150 -12.466766   9.648311  -2.726961 -4.445610   \n",
       "1  101051       NaN  -1.093377  -0.059768   1.064785  11.095089 -5.430971   \n",
       "2  132688       NaN   1.861373  -4.310353   2.448080   4.574094 -2.979912   \n",
       "3   95559       NaN  11.614801 -19.739386  10.463866 -12.599146 -1.202393   \n",
       "4   58642 -0.451383   2.225147  -4.953050   4.342228  -3.656190 -0.020121   \n",
       "\n",
       "          V7        V8        V9  ...       V22        V23       V24  \\\n",
       "0 -21.922811  0.320792 -4.433162  ... -1.504119 -19.254328  0.544867   \n",
       "1  -9.378025 -0.446456  1.992110  ... -1.259697 -15.981649 -0.883670   \n",
       "2  -2.792379 -2.719867 -0.276704  ... -0.348904  -3.979948 -0.828156   \n",
       "3 -23.380508 -5.781133 -7.811022  ...  1.140910   1.392953  0.348997   \n",
       "4  -5.407554 -0.748436 -1.362198  ...  0.495889   1.154128 -0.016186   \n",
       "\n",
       "        V25       V26       V27       V28     V28.1   Amount  Normal  \n",
       "0 -4.781606 -0.007772  3.052358 -0.775036 -0.775036  1218.89       0  \n",
       "1 -3.536716 -0.592965  0.675525  0.424849  0.424849     0.92       0  \n",
       "2 -2.419446 -0.767070  0.387039  0.319402  0.319402     1.00       0  \n",
       "3 -2.167510 -0.798754 -2.942775 -0.462680 -0.462680     1.63       0  \n",
       "4 -2.079928 -0.554377  0.455179  0.001321  0.001321   113.92       0  \n",
       "\n",
       "[5 rows x 32 columns]"
      ]
     },
     "execution_count": 2,
     "metadata": {},
     "output_type": "execute_result"
    }
   ],
   "source": [
    "#Import the data in dataframe\n",
    "df = pd.read_csv(\"data/creditcard dataset small.csv\")\n",
    "df.head()"
   ]
  },
  {
   "cell_type": "markdown",
   "metadata": {},
   "source": [
    "## Data Pre-processing - Feature Engineering"
   ]
  },
  {
   "cell_type": "code",
   "execution_count": 3,
   "metadata": {
    "scrolled": true
   },
   "outputs": [
    {
     "name": "stdout",
     "output_type": "stream",
     "text": [
      "<class 'pandas.core.frame.DataFrame'>\n",
      "RangeIndex: 9997 entries, 0 to 9996\n",
      "Data columns (total 32 columns):\n",
      " #   Column  Non-Null Count  Dtype  \n",
      "---  ------  --------------  -----  \n",
      " 0   Time    9997 non-null   int64  \n",
      " 1   V1      9993 non-null   float64\n",
      " 2   V2      9997 non-null   float64\n",
      " 3   V3      9997 non-null   float64\n",
      " 4   V4      9997 non-null   float64\n",
      " 5   V5      9997 non-null   float64\n",
      " 6   V6      9997 non-null   float64\n",
      " 7   V7      9997 non-null   float64\n",
      " 8   V8      9997 non-null   float64\n",
      " 9   V9      9997 non-null   float64\n",
      " 10  V10     9997 non-null   float64\n",
      " 11  V11     9997 non-null   float64\n",
      " 12  V12     9997 non-null   float64\n",
      " 13  V13     9997 non-null   float64\n",
      " 14  V14     9997 non-null   float64\n",
      " 15  V15     9997 non-null   float64\n",
      " 16  V16     9997 non-null   float64\n",
      " 17  V17     9997 non-null   float64\n",
      " 18  V18     9997 non-null   float64\n",
      " 19  V19     9997 non-null   float64\n",
      " 20  V20     9997 non-null   float64\n",
      " 21  V21     9997 non-null   float64\n",
      " 22  V22     9997 non-null   float64\n",
      " 23  V23     9997 non-null   float64\n",
      " 24  V24     9997 non-null   float64\n",
      " 25  V25     9997 non-null   float64\n",
      " 26  V26     9997 non-null   float64\n",
      " 27  V27     9997 non-null   float64\n",
      " 28  V28     9997 non-null   float64\n",
      " 29  V28.1   9997 non-null   float64\n",
      " 30  Amount  9997 non-null   float64\n",
      " 31  Normal  9997 non-null   int64  \n",
      "dtypes: float64(30), int64(2)\n",
      "memory usage: 2.4 MB\n"
     ]
    }
   ],
   "source": [
    "df.info()"
   ]
  },
  {
   "cell_type": "markdown",
   "metadata": {},
   "source": [
    "dropping the 4 null values from the dataset."
   ]
  },
  {
   "cell_type": "code",
   "execution_count": 4,
   "metadata": {},
   "outputs": [],
   "source": [
    "df = df[~(df['V1'].isnull())]"
   ]
  },
  {
   "cell_type": "markdown",
   "metadata": {},
   "source": [
    "From the target variable is clear that the dataset is imbalanced (95% 'healthy' transactions, 5% 'fraudulent'. <br>\n",
    "It is important to perform stratified sampling in train-test split to ensure the target variable included in the splits is representative of the complete dataset."
   ]
  },
  {
   "cell_type": "code",
   "execution_count": 5,
   "metadata": {
    "scrolled": true
   },
   "outputs": [
    {
     "data": {
      "text/plain": [
       "1    9505\n",
       "0     488\n",
       "Name: Normal, dtype: int64"
      ]
     },
     "execution_count": 5,
     "metadata": {},
     "output_type": "execute_result"
    }
   ],
   "source": [
    "df.Normal.value_counts()"
   ]
  },
  {
   "cell_type": "markdown",
   "metadata": {},
   "source": [
    "The target label is named 'Normal' and this translates to 1 for healthy transactions and 0 for fraudulent transactioins.<br>\n",
    "In classification problems is usually vice versa, hence I will reverese the labelling -- 1 for fraudulent transaction and 0 for 'healthy' transactions.<br>\n",
    "This will help to get meaningful results from the evaluation metrics as well such as False Positive or False Negative counts."
   ]
  },
  {
   "cell_type": "code",
   "execution_count": 6,
   "metadata": {},
   "outputs": [],
   "source": [
    "#invert the target variable\n",
    "Fraud = np.logical_xor(df.Normal,1).astype(int)\n",
    "#create new column in dataframe with inverted target variable\n",
    "df['Fraud'] = Fraud\n",
    "#drop the old target variable column\n",
    "df = df.drop('Normal', axis=1)"
   ]
  },
  {
   "cell_type": "code",
   "execution_count": 7,
   "metadata": {
    "scrolled": true
   },
   "outputs": [
    {
     "data": {
      "text/html": [
       "<div>\n",
       "<style scoped>\n",
       "    .dataframe tbody tr th:only-of-type {\n",
       "        vertical-align: middle;\n",
       "    }\n",
       "\n",
       "    .dataframe tbody tr th {\n",
       "        vertical-align: top;\n",
       "    }\n",
       "\n",
       "    .dataframe thead th {\n",
       "        text-align: right;\n",
       "    }\n",
       "</style>\n",
       "<table border=\"1\" class=\"dataframe\">\n",
       "  <thead>\n",
       "    <tr style=\"text-align: right;\">\n",
       "      <th></th>\n",
       "      <th>Time</th>\n",
       "      <th>V1</th>\n",
       "      <th>V2</th>\n",
       "      <th>V3</th>\n",
       "      <th>V4</th>\n",
       "      <th>V5</th>\n",
       "      <th>V6</th>\n",
       "      <th>V7</th>\n",
       "      <th>V8</th>\n",
       "      <th>V9</th>\n",
       "      <th>...</th>\n",
       "      <th>V22</th>\n",
       "      <th>V23</th>\n",
       "      <th>V24</th>\n",
       "      <th>V25</th>\n",
       "      <th>V26</th>\n",
       "      <th>V27</th>\n",
       "      <th>V28</th>\n",
       "      <th>V28.1</th>\n",
       "      <th>Amount</th>\n",
       "      <th>Fraud</th>\n",
       "    </tr>\n",
       "  </thead>\n",
       "  <tbody>\n",
       "    <tr>\n",
       "      <th>4</th>\n",
       "      <td>58642</td>\n",
       "      <td>-0.451383</td>\n",
       "      <td>2.225147</td>\n",
       "      <td>-4.953050</td>\n",
       "      <td>4.342228</td>\n",
       "      <td>-3.656190</td>\n",
       "      <td>-0.020121</td>\n",
       "      <td>-5.407554</td>\n",
       "      <td>-0.748436</td>\n",
       "      <td>-1.362198</td>\n",
       "      <td>...</td>\n",
       "      <td>0.495889</td>\n",
       "      <td>1.154128</td>\n",
       "      <td>-0.016186</td>\n",
       "      <td>-2.079928</td>\n",
       "      <td>-0.554377</td>\n",
       "      <td>0.455179</td>\n",
       "      <td>0.001321</td>\n",
       "      <td>0.001321</td>\n",
       "      <td>113.92</td>\n",
       "      <td>1</td>\n",
       "    </tr>\n",
       "    <tr>\n",
       "      <th>5</th>\n",
       "      <td>7740</td>\n",
       "      <td>1.023874</td>\n",
       "      <td>2.001485</td>\n",
       "      <td>-4.769752</td>\n",
       "      <td>3.819195</td>\n",
       "      <td>-1.271754</td>\n",
       "      <td>-1.734662</td>\n",
       "      <td>-3.059245</td>\n",
       "      <td>0.889805</td>\n",
       "      <td>0.415382</td>\n",
       "      <td>...</td>\n",
       "      <td>-0.054196</td>\n",
       "      <td>0.709654</td>\n",
       "      <td>-0.372216</td>\n",
       "      <td>-2.032068</td>\n",
       "      <td>0.366778</td>\n",
       "      <td>0.395171</td>\n",
       "      <td>0.020206</td>\n",
       "      <td>0.020206</td>\n",
       "      <td>1.00</td>\n",
       "      <td>1</td>\n",
       "    </tr>\n",
       "    <tr>\n",
       "      <th>6</th>\n",
       "      <td>7672</td>\n",
       "      <td>0.702710</td>\n",
       "      <td>2.426433</td>\n",
       "      <td>-5.234513</td>\n",
       "      <td>4.416661</td>\n",
       "      <td>-2.170806</td>\n",
       "      <td>-2.667554</td>\n",
       "      <td>-3.878088</td>\n",
       "      <td>0.911337</td>\n",
       "      <td>-0.166199</td>\n",
       "      <td>...</td>\n",
       "      <td>-0.009802</td>\n",
       "      <td>0.721698</td>\n",
       "      <td>0.473246</td>\n",
       "      <td>-1.959304</td>\n",
       "      <td>0.319476</td>\n",
       "      <td>0.600485</td>\n",
       "      <td>0.129305</td>\n",
       "      <td>0.129305</td>\n",
       "      <td>1.00</td>\n",
       "      <td>1</td>\n",
       "    </tr>\n",
       "    <tr>\n",
       "      <th>7</th>\n",
       "      <td>8451</td>\n",
       "      <td>0.314597</td>\n",
       "      <td>2.660670</td>\n",
       "      <td>-5.920037</td>\n",
       "      <td>4.522500</td>\n",
       "      <td>-2.315027</td>\n",
       "      <td>-2.278352</td>\n",
       "      <td>-4.684054</td>\n",
       "      <td>1.202270</td>\n",
       "      <td>-0.694696</td>\n",
       "      <td>...</td>\n",
       "      <td>0.064038</td>\n",
       "      <td>0.677842</td>\n",
       "      <td>0.083008</td>\n",
       "      <td>-1.911034</td>\n",
       "      <td>0.322188</td>\n",
       "      <td>0.620867</td>\n",
       "      <td>0.185030</td>\n",
       "      <td>0.185030</td>\n",
       "      <td>1.00</td>\n",
       "      <td>1</td>\n",
       "    </tr>\n",
       "    <tr>\n",
       "      <th>8</th>\n",
       "      <td>8528</td>\n",
       "      <td>0.447396</td>\n",
       "      <td>2.481954</td>\n",
       "      <td>-5.660814</td>\n",
       "      <td>4.455923</td>\n",
       "      <td>-2.443780</td>\n",
       "      <td>-2.185040</td>\n",
       "      <td>-4.716143</td>\n",
       "      <td>1.249803</td>\n",
       "      <td>-0.718326</td>\n",
       "      <td>...</td>\n",
       "      <td>0.140168</td>\n",
       "      <td>0.665411</td>\n",
       "      <td>0.131464</td>\n",
       "      <td>-1.908217</td>\n",
       "      <td>0.334808</td>\n",
       "      <td>0.748534</td>\n",
       "      <td>0.175414</td>\n",
       "      <td>0.175414</td>\n",
       "      <td>1.00</td>\n",
       "      <td>1</td>\n",
       "    </tr>\n",
       "  </tbody>\n",
       "</table>\n",
       "<p>5 rows × 32 columns</p>\n",
       "</div>"
      ],
      "text/plain": [
       "    Time        V1        V2        V3        V4        V5        V6  \\\n",
       "4  58642 -0.451383  2.225147 -4.953050  4.342228 -3.656190 -0.020121   \n",
       "5   7740  1.023874  2.001485 -4.769752  3.819195 -1.271754 -1.734662   \n",
       "6   7672  0.702710  2.426433 -5.234513  4.416661 -2.170806 -2.667554   \n",
       "7   8451  0.314597  2.660670 -5.920037  4.522500 -2.315027 -2.278352   \n",
       "8   8528  0.447396  2.481954 -5.660814  4.455923 -2.443780 -2.185040   \n",
       "\n",
       "         V7        V8        V9  ...       V22       V23       V24       V25  \\\n",
       "4 -5.407554 -0.748436 -1.362198  ...  0.495889  1.154128 -0.016186 -2.079928   \n",
       "5 -3.059245  0.889805  0.415382  ... -0.054196  0.709654 -0.372216 -2.032068   \n",
       "6 -3.878088  0.911337 -0.166199  ... -0.009802  0.721698  0.473246 -1.959304   \n",
       "7 -4.684054  1.202270 -0.694696  ...  0.064038  0.677842  0.083008 -1.911034   \n",
       "8 -4.716143  1.249803 -0.718326  ...  0.140168  0.665411  0.131464 -1.908217   \n",
       "\n",
       "        V26       V27       V28     V28.1  Amount  Fraud  \n",
       "4 -0.554377  0.455179  0.001321  0.001321  113.92      1  \n",
       "5  0.366778  0.395171  0.020206  0.020206    1.00      1  \n",
       "6  0.319476  0.600485  0.129305  0.129305    1.00      1  \n",
       "7  0.322188  0.620867  0.185030  0.185030    1.00      1  \n",
       "8  0.334808  0.748534  0.175414  0.175414    1.00      1  \n",
       "\n",
       "[5 rows x 32 columns]"
      ]
     },
     "execution_count": 7,
     "metadata": {},
     "output_type": "execute_result"
    }
   ],
   "source": [
    "df.head()"
   ]
  },
  {
   "cell_type": "markdown",
   "metadata": {},
   "source": [
    "Using pearson corellation coefficient method for all fetaures in relation to the target variable.<br>\n",
    "The feature 'Time' is not very useful in this analysis and it will be excluded."
   ]
  },
  {
   "cell_type": "code",
   "execution_count": 8,
   "metadata": {},
   "outputs": [
    {
     "data": {
      "text/plain": [
       "V14       0.742986\n",
       "V12       0.697155\n",
       "V17       0.644026\n",
       "V10       0.627874\n",
       "V11       0.600049\n",
       "V16       0.552992\n",
       "V25       0.545938\n",
       "V3        0.526394\n",
       "V4        0.444572\n",
       "V7        0.424911\n",
       "V9        0.400542\n",
       "V18       0.399196\n",
       "V5        0.294629\n",
       "V1        0.259606\n",
       "V2        0.256588\n",
       "Time      0.198727\n",
       "V6        0.175390\n",
       "V19       0.099505\n",
       "V21       0.098844\n",
       "V8        0.073820\n",
       "V22       0.053194\n",
       "V26       0.049558\n",
       "V20       0.048375\n",
       "V13       0.035628\n",
       "V27       0.035209\n",
       "Amount    0.029027\n",
       "V24       0.025652\n",
       "V28       0.014705\n",
       "V28.1     0.014705\n",
       "V23       0.014573\n",
       "V15       0.001810\n",
       "dtype: float64"
      ]
     },
     "execution_count": 8,
     "metadata": {},
     "output_type": "execute_result"
    }
   ],
   "source": [
    "#take the absolute value corellation coefficient\n",
    "cor = df.corr().abs()\n",
    "sort_cor = cor.unstack()['Fraud'].sort_values()[-2::-1]\n",
    "sort_cor"
   ]
  },
  {
   "cell_type": "markdown",
   "metadata": {},
   "source": [
    "To eliminate the noisy attributes we pick only the features with correlation more than 0.3."
   ]
  },
  {
   "cell_type": "code",
   "execution_count": 9,
   "metadata": {},
   "outputs": [],
   "source": [
    "def get_attributes(df, p_th=0.5):\n",
    "    \"\"\"\n",
    "    Receives the dataframe and threshold for pearsons corellation coefficient.\n",
    "    Returns the attributes which are correlated to the 'Fraud' target value with corellation \n",
    "    coefficient higher than p_th.\n",
    "    \"\"\"\n",
    "\n",
    "    #filter relevant attributes\n",
    "    cor = df.corr().abs()\n",
    "    sort_cor = cor.unstack()['Fraud'].sort_values()[-2::-1]\n",
    "    classification_attributes = sort_cor.index[sort_cor>p_th]\n",
    "    return classification_attributes\n",
    "\n",
    "attributes = get_attributes(df, p_th=0.3)\n",
    "df2 = df[attributes]"
   ]
  },
  {
   "cell_type": "markdown",
   "metadata": {},
   "source": [
    "Checking for multicollinearity"
   ]
  },
  {
   "cell_type": "code",
   "execution_count": 10,
   "metadata": {},
   "outputs": [
    {
     "data": {
      "image/png": "[encoded data removed]",
      "text/plain": [
       "<Figure size 576x576 with 2 Axes>"
      ]
     },
     "metadata": {
      "needs_background": "light"
     },
     "output_type": "display_data"
    }
   ],
   "source": [
    "#get correlation table of attributes\n",
    "fig = plt.figure(figsize=(8,8))\n",
    "cor_array = np.asarray(df[attributes].corr().abs())\n",
    "plt.imshow(cor_array,cmap='hot',interpolation='nearest')\n",
    "plt.colorbar()\n",
    "plt.xticks(ticks=range(len(attributes)),labels=attributes)\n",
    "plt.yticks(ticks=range(len(attributes)),labels=attributes)\n",
    "plt.title(\"Corelation between attributes\")\n",
    "plt.show()"
   ]
  },
  {
   "cell_type": "markdown",
   "metadata": {},
   "source": [
    "Some of the features are apear as highly correlated.<br>\n",
    "We will find those pairs and exclude the feature with the lowest correlation against the target."
   ]
  },
  {
   "cell_type": "code",
   "execution_count": 11,
   "metadata": {},
   "outputs": [
    {
     "data": {
      "text/plain": [
       "MultiIndex([('V14', 'V12'),\n",
       "            ('V12', 'V14'),\n",
       "            ('V12', 'V17'),\n",
       "            ('V17', 'V12')],\n",
       "           )"
      ]
     },
     "execution_count": 11,
     "metadata": {},
     "output_type": "execute_result"
    }
   ],
   "source": [
    "cor_table = df2.corr()\n",
    "cor_table[(cor_table>0.7) & (cor_table<1)].stack().index"
   ]
  },
  {
   "cell_type": "code",
   "execution_count": 12,
   "metadata": {},
   "outputs": [
    {
     "data": {
      "text/html": [
       "<div>\n",
       "<style scoped>\n",
       "    .dataframe tbody tr th:only-of-type {\n",
       "        vertical-align: middle;\n",
       "    }\n",
       "\n",
       "    .dataframe tbody tr th {\n",
       "        vertical-align: top;\n",
       "    }\n",
       "\n",
       "    .dataframe thead th {\n",
       "        text-align: right;\n",
       "    }\n",
       "</style>\n",
       "<table border=\"1\" class=\"dataframe\">\n",
       "  <thead>\n",
       "    <tr style=\"text-align: right;\">\n",
       "      <th></th>\n",
       "      <th>V12</th>\n",
       "      <th>V14</th>\n",
       "      <th>V17</th>\n",
       "      <th>Fraud</th>\n",
       "    </tr>\n",
       "  </thead>\n",
       "  <tbody>\n",
       "    <tr>\n",
       "      <th>V12</th>\n",
       "      <td>1.000000</td>\n",
       "      <td>0.716343</td>\n",
       "      <td>0.731324</td>\n",
       "      <td>0.697155</td>\n",
       "    </tr>\n",
       "    <tr>\n",
       "      <th>V14</th>\n",
       "      <td>0.716343</td>\n",
       "      <td>1.000000</td>\n",
       "      <td>0.671117</td>\n",
       "      <td>0.742986</td>\n",
       "    </tr>\n",
       "    <tr>\n",
       "      <th>V17</th>\n",
       "      <td>0.731324</td>\n",
       "      <td>0.671117</td>\n",
       "      <td>1.000000</td>\n",
       "      <td>0.644026</td>\n",
       "    </tr>\n",
       "    <tr>\n",
       "      <th>Fraud</th>\n",
       "      <td>0.697155</td>\n",
       "      <td>0.742986</td>\n",
       "      <td>0.644026</td>\n",
       "      <td>1.000000</td>\n",
       "    </tr>\n",
       "  </tbody>\n",
       "</table>\n",
       "</div>"
      ],
      "text/plain": [
       "            V12       V14       V17     Fraud\n",
       "V12    1.000000  0.716343  0.731324  0.697155\n",
       "V14    0.716343  1.000000  0.671117  0.742986\n",
       "V17    0.731324  0.671117  1.000000  0.644026\n",
       "Fraud  0.697155  0.742986  0.644026  1.000000"
      ]
     },
     "execution_count": 12,
     "metadata": {},
     "output_type": "execute_result"
    }
   ],
   "source": [
    "#check pairs of features (V14, V12) and (V12, V17) against 'Fraud' target\n",
    "highly_correlated_features = ['V12' , 'V14', 'V17', 'Fraud']\n",
    "df[highly_correlated_features].corr().abs()\n"
   ]
  },
  {
   "cell_type": "code",
   "execution_count": 13,
   "metadata": {},
   "outputs": [
    {
     "data": {
      "text/plain": [
       "Index(['V14', 'V10', 'V11', 'V16', 'V25', 'V3', 'V4', 'V7', 'V9', 'V18'], dtype='object')"
      ]
     },
     "execution_count": 13,
     "metadata": {},
     "output_type": "execute_result"
    }
   ],
   "source": [
    "attributes=attributes.delete([1,2])\n",
    "attributes"
   ]
  },
  {
   "cell_type": "markdown",
   "metadata": {},
   "source": [
    "From the table below is obvious that the attributes are all very similar between them with similar means and standard deviation. Nevertheless, as I intend to use the classification kNN technique which is based on the Eucledian distance metric to estimate the nearest neighbours, the better approach to this is to standardise the features by removing the mean and scaling to unit variance.\n",
    "\n",
    "In their work Introduction to Data Mining,  Tan et al clarify that \"the goal of standardization or normalization is to make an entire set of valueshave a particular property\" (Tan et al,2019 p.90). "
   ]
  },
  {
   "cell_type": "code",
   "execution_count": 14,
   "metadata": {
    "scrolled": true
   },
   "outputs": [
    {
     "data": {
      "text/html": [
       "<div>\n",
       "<style scoped>\n",
       "    .dataframe tbody tr th:only-of-type {\n",
       "        vertical-align: middle;\n",
       "    }\n",
       "\n",
       "    .dataframe tbody tr th {\n",
       "        vertical-align: top;\n",
       "    }\n",
       "\n",
       "    .dataframe thead th {\n",
       "        text-align: right;\n",
       "    }\n",
       "</style>\n",
       "<table border=\"1\" class=\"dataframe\">\n",
       "  <thead>\n",
       "    <tr style=\"text-align: right;\">\n",
       "      <th></th>\n",
       "      <th>V14</th>\n",
       "      <th>V12</th>\n",
       "      <th>V17</th>\n",
       "      <th>V10</th>\n",
       "      <th>V11</th>\n",
       "      <th>V16</th>\n",
       "      <th>V25</th>\n",
       "      <th>V3</th>\n",
       "      <th>V4</th>\n",
       "      <th>V7</th>\n",
       "      <th>V9</th>\n",
       "      <th>V18</th>\n",
       "    </tr>\n",
       "  </thead>\n",
       "  <tbody>\n",
       "    <tr>\n",
       "      <th>count</th>\n",
       "      <td>9993.000000</td>\n",
       "      <td>9993.000000</td>\n",
       "      <td>9993.000000</td>\n",
       "      <td>9993.000000</td>\n",
       "      <td>9993.000000</td>\n",
       "      <td>9993.000000</td>\n",
       "      <td>9993.000000</td>\n",
       "      <td>9993.000000</td>\n",
       "      <td>9993.000000</td>\n",
       "      <td>9993.000000</td>\n",
       "      <td>9993.000000</td>\n",
       "      <td>9993.000000</td>\n",
       "    </tr>\n",
       "    <tr>\n",
       "      <th>mean</th>\n",
       "      <td>-0.327642</td>\n",
       "      <td>-0.309469</td>\n",
       "      <td>-0.279621</td>\n",
       "      <td>-0.196385</td>\n",
       "      <td>0.047457</td>\n",
       "      <td>-0.311806</td>\n",
       "      <td>-1.294255</td>\n",
       "      <td>-0.574743</td>\n",
       "      <td>0.382937</td>\n",
       "      <td>-0.142244</td>\n",
       "      <td>-0.205477</td>\n",
       "      <td>-0.063948</td>\n",
       "    </tr>\n",
       "    <tr>\n",
       "      <th>std</th>\n",
       "      <td>2.031306</td>\n",
       "      <td>1.931530</td>\n",
       "      <td>2.245892</td>\n",
       "      <td>1.973955</td>\n",
       "      <td>1.414597</td>\n",
       "      <td>1.566785</td>\n",
       "      <td>0.565517</td>\n",
       "      <td>2.772772</td>\n",
       "      <td>2.114182</td>\n",
       "      <td>2.855391</td>\n",
       "      <td>1.343731</td>\n",
       "      <td>1.233268</td>\n",
       "    </tr>\n",
       "    <tr>\n",
       "      <th>min</th>\n",
       "      <td>-19.214325</td>\n",
       "      <td>-18.683715</td>\n",
       "      <td>-25.162799</td>\n",
       "      <td>-24.588262</td>\n",
       "      <td>-3.684586</td>\n",
       "      <td>-14.129855</td>\n",
       "      <td>-10.295397</td>\n",
       "      <td>-31.103685</td>\n",
       "      <td>-5.266509</td>\n",
       "      <td>-43.557242</td>\n",
       "      <td>-13.434066</td>\n",
       "      <td>-9.498746</td>\n",
       "    </tr>\n",
       "    <tr>\n",
       "      <th>25%</th>\n",
       "      <td>-0.647153</td>\n",
       "      <td>-0.541667</td>\n",
       "      <td>-0.560686</td>\n",
       "      <td>-0.687764</td>\n",
       "      <td>-0.861597</td>\n",
       "      <td>-0.845986</td>\n",
       "      <td>-1.478560</td>\n",
       "      <td>-1.182241</td>\n",
       "      <td>-0.864529</td>\n",
       "      <td>-0.526122</td>\n",
       "      <td>-0.860186</td>\n",
       "      <td>-0.579886</td>\n",
       "    </tr>\n",
       "    <tr>\n",
       "      <th>50%</th>\n",
       "      <td>-0.019323</td>\n",
       "      <td>0.067766</td>\n",
       "      <td>-0.014330</td>\n",
       "      <td>-0.096776</td>\n",
       "      <td>-0.050266</td>\n",
       "      <td>-0.162495</td>\n",
       "      <td>-1.207500</td>\n",
       "      <td>0.044466</td>\n",
       "      <td>-0.136490</td>\n",
       "      <td>0.183330</td>\n",
       "      <td>-0.126579</td>\n",
       "      <td>0.052822</td>\n",
       "    </tr>\n",
       "    <tr>\n",
       "      <th>75%</th>\n",
       "      <td>0.520247</td>\n",
       "      <td>0.578948</td>\n",
       "      <td>0.481993</td>\n",
       "      <td>0.653108</td>\n",
       "      <td>0.685993</td>\n",
       "      <td>0.510768</td>\n",
       "      <td>-1.057588</td>\n",
       "      <td>0.857215</td>\n",
       "      <td>1.128120</td>\n",
       "      <td>0.817537</td>\n",
       "      <td>0.553565</td>\n",
       "      <td>0.644404</td>\n",
       "    </tr>\n",
       "    <tr>\n",
       "      <th>max</th>\n",
       "      <td>7.754599</td>\n",
       "      <td>4.472921</td>\n",
       "      <td>6.739384</td>\n",
       "      <td>23.745136</td>\n",
       "      <td>12.018913</td>\n",
       "      <td>7.059132</td>\n",
       "      <td>2.208209</td>\n",
       "      <td>9.382558</td>\n",
       "      <td>16.875344</td>\n",
       "      <td>31.527244</td>\n",
       "      <td>15.594995</td>\n",
       "      <td>5.041069</td>\n",
       "    </tr>\n",
       "  </tbody>\n",
       "</table>\n",
       "</div>"
      ],
      "text/plain": [
       "               V14          V12          V17          V10          V11  \\\n",
       "count  9993.000000  9993.000000  9993.000000  9993.000000  9993.000000   \n",
       "mean     -0.327642    -0.309469    -0.279621    -0.196385     0.047457   \n",
       "std       2.031306     1.931530     2.245892     1.973955     1.414597   \n",
       "min     -19.214325   -18.683715   -25.162799   -24.588262    -3.684586   \n",
       "25%      -0.647153    -0.541667    -0.560686    -0.687764    -0.861597   \n",
       "50%      -0.019323     0.067766    -0.014330    -0.096776    -0.050266   \n",
       "75%       0.520247     0.578948     0.481993     0.653108     0.685993   \n",
       "max       7.754599     4.472921     6.739384    23.745136    12.018913   \n",
       "\n",
       "               V16          V25           V3           V4           V7  \\\n",
       "count  9993.000000  9993.000000  9993.000000  9993.000000  9993.000000   \n",
       "mean     -0.311806    -1.294255    -0.574743     0.382937    -0.142244   \n",
       "std       1.566785     0.565517     2.772772     2.114182     2.855391   \n",
       "min     -14.129855   -10.295397   -31.103685    -5.266509   -43.557242   \n",
       "25%      -0.845986    -1.478560    -1.182241    -0.864529    -0.526122   \n",
       "50%      -0.162495    -1.207500     0.044466    -0.136490     0.183330   \n",
       "75%       0.510768    -1.057588     0.857215     1.128120     0.817537   \n",
       "max       7.059132     2.208209     9.382558    16.875344    31.527244   \n",
       "\n",
       "                V9          V18  \n",
       "count  9993.000000  9993.000000  \n",
       "mean     -0.205477    -0.063948  \n",
       "std       1.343731     1.233268  \n",
       "min     -13.434066    -9.498746  \n",
       "25%      -0.860186    -0.579886  \n",
       "50%      -0.126579     0.052822  \n",
       "75%       0.553565     0.644404  \n",
       "max      15.594995     5.041069  "
      ]
     },
     "execution_count": 14,
     "metadata": {},
     "output_type": "execute_result"
    }
   ],
   "source": [
    "df2.describe()"
   ]
  },
  {
   "cell_type": "markdown",
   "metadata": {},
   "source": [
    "## Model 1 development "
   ]
  },
  {
   "cell_type": "markdown",
   "metadata": {},
   "source": [
    "Since the problem at hand is a classification problem, I intend to use KNN machine learning algorith as my first technique. The reasons are:\n",
    "* Thisis a simple model hence, it performs good on relatively small datasets.\n",
    "* KNN is easy to interpret and is based on the simple Eucledian distance. The features have been standardise and ready to apply KNN algorithm. \n",
    "* KNN performs well with small numbers of features (attributes).\n",
    "* KNN can be an extremely fast algorithm.\n"
   ]
  },
  {
   "cell_type": "markdown",
   "metadata": {},
   "source": [
    "### Schematic figure of the process "
   ]
  },
  {
   "attachments": {
    "7616e1e8-d003-4b02-ad54-2464549795c8.png": {
     "image/png": "[encoded data removed]"
    }
   },
   "cell_type": "markdown",
   "metadata": {},
   "source": [
    "![image.png](attachment:7616e1e8-d003-4b02-ad54-2464549795c8.png)"
   ]
  },
  {
   "cell_type": "markdown",
   "metadata": {},
   "source": [
    "First I will standardise my dataset as explained above."
   ]
  },
  {
   "cell_type": "code",
   "execution_count": 15,
   "metadata": {},
   "outputs": [
    {
     "data": {
      "text/html": [
       "<div>\n",
       "<style scoped>\n",
       "    .dataframe tbody tr th:only-of-type {\n",
       "        vertical-align: middle;\n",
       "    }\n",
       "\n",
       "    .dataframe tbody tr th {\n",
       "        vertical-align: top;\n",
       "    }\n",
       "\n",
       "    .dataframe thead th {\n",
       "        text-align: right;\n",
       "    }\n",
       "</style>\n",
       "<table border=\"1\" class=\"dataframe\">\n",
       "  <thead>\n",
       "    <tr style=\"text-align: right;\">\n",
       "      <th></th>\n",
       "      <th>V14</th>\n",
       "      <th>V12</th>\n",
       "      <th>V17</th>\n",
       "      <th>V10</th>\n",
       "      <th>V11</th>\n",
       "      <th>V16</th>\n",
       "      <th>V25</th>\n",
       "      <th>V3</th>\n",
       "      <th>V4</th>\n",
       "      <th>V7</th>\n",
       "      <th>V9</th>\n",
       "      <th>V18</th>\n",
       "    </tr>\n",
       "  </thead>\n",
       "  <tbody>\n",
       "    <tr>\n",
       "      <th>0</th>\n",
       "      <td>-2.157762</td>\n",
       "      <td>-2.027901</td>\n",
       "      <td>-2.605895</td>\n",
       "      <td>-2.013439</td>\n",
       "      <td>2.626216</td>\n",
       "      <td>-2.825850</td>\n",
       "      <td>-1.389371</td>\n",
       "      <td>-1.579115</td>\n",
       "      <td>1.872823</td>\n",
       "      <td>-1.844082</td>\n",
       "      <td>-0.860871</td>\n",
       "      <td>-1.915270</td>\n",
       "    </tr>\n",
       "    <tr>\n",
       "      <th>1</th>\n",
       "      <td>-2.423027</td>\n",
       "      <td>-3.560559</td>\n",
       "      <td>-0.459724</td>\n",
       "      <td>-1.904611</td>\n",
       "      <td>2.491717</td>\n",
       "      <td>-1.486983</td>\n",
       "      <td>-1.304736</td>\n",
       "      <td>-1.513005</td>\n",
       "      <td>1.625418</td>\n",
       "      <td>-1.021628</td>\n",
       "      <td>0.462064</td>\n",
       "      <td>-0.265786</td>\n",
       "    </tr>\n",
       "    <tr>\n",
       "      <th>2</th>\n",
       "      <td>-3.168412</td>\n",
       "      <td>-4.068335</td>\n",
       "      <td>-1.547127</td>\n",
       "      <td>-2.438306</td>\n",
       "      <td>3.271961</td>\n",
       "      <td>-2.233955</td>\n",
       "      <td>-1.176060</td>\n",
       "      <td>-1.680630</td>\n",
       "      <td>1.908032</td>\n",
       "      <td>-1.308413</td>\n",
       "      <td>0.029232</td>\n",
       "      <td>-0.798917</td>\n",
       "    </tr>\n",
       "    <tr>\n",
       "      <th>3</th>\n",
       "      <td>-3.619048</td>\n",
       "      <td>-4.253833</td>\n",
       "      <td>-2.477823</td>\n",
       "      <td>-2.700244</td>\n",
       "      <td>4.676465</td>\n",
       "      <td>-2.659292</td>\n",
       "      <td>-1.090702</td>\n",
       "      <td>-1.927876</td>\n",
       "      <td>1.958095</td>\n",
       "      <td>-1.590689</td>\n",
       "      <td>-0.364093</td>\n",
       "      <td>-0.842343</td>\n",
       "    </tr>\n",
       "    <tr>\n",
       "      <th>4</th>\n",
       "      <td>-3.294725</td>\n",
       "      <td>-4.233062</td>\n",
       "      <td>-2.675568</td>\n",
       "      <td>-2.631370</td>\n",
       "      <td>4.529243</td>\n",
       "      <td>-2.768903</td>\n",
       "      <td>-1.085720</td>\n",
       "      <td>-1.834383</td>\n",
       "      <td>1.926603</td>\n",
       "      <td>-1.601927</td>\n",
       "      <td>-0.381680</td>\n",
       "      <td>-1.034186</td>\n",
       "    </tr>\n",
       "  </tbody>\n",
       "</table>\n",
       "</div>"
      ],
      "text/plain": [
       "        V14       V12       V17       V10       V11       V16       V25  \\\n",
       "0 -2.157762 -2.027901 -2.605895 -2.013439  2.626216 -2.825850 -1.389371   \n",
       "1 -2.423027 -3.560559 -0.459724 -1.904611  2.491717 -1.486983 -1.304736   \n",
       "2 -3.168412 -4.068335 -1.547127 -2.438306  3.271961 -2.233955 -1.176060   \n",
       "3 -3.619048 -4.253833 -2.477823 -2.700244  4.676465 -2.659292 -1.090702   \n",
       "4 -3.294725 -4.233062 -2.675568 -2.631370  4.529243 -2.768903 -1.085720   \n",
       "\n",
       "         V3        V4        V7        V9       V18  \n",
       "0 -1.579115  1.872823 -1.844082 -0.860871 -1.915270  \n",
       "1 -1.513005  1.625418 -1.021628  0.462064 -0.265786  \n",
       "2 -1.680630  1.908032 -1.308413  0.029232 -0.798917  \n",
       "3 -1.927876  1.958095 -1.590689 -0.364093 -0.842343  \n",
       "4 -1.834383  1.926603 -1.601927 -0.381680 -1.034186  "
      ]
     },
     "execution_count": 15,
     "metadata": {},
     "output_type": "execute_result"
    }
   ],
   "source": [
    "scaler = StandardScaler()\n",
    "df2_scaled  = scaler.fit_transform(df2)\n",
    "processed_data = pd.DataFrame(df2_scaled)\n",
    "processed_data.columns = df2.columns\n",
    "processed_data.head()"
   ]
  },
  {
   "cell_type": "markdown",
   "metadata": {},
   "source": [
    "K is a  of the neighrest neighbours we want to achieve to make a valid conclusion on the label of the instance. \n",
    "Since the data is imbalanced, a good approach is to use stratified cross-validation."
   ]
  },
  {
   "cell_type": "markdown",
   "metadata": {},
   "source": [
    "### Optimising hyper parameters "
   ]
  },
  {
   "cell_type": "markdown",
   "metadata": {},
   "source": [
    "In this section I will perform GridSearch with stratified cross-validation to find out about the best hyperparameters (based on my selected ranges). This method will help me to prevent overfitting on the training data by training on a series of multiple splits, holding out a validation set for testing. "
   ]
  },
  {
   "cell_type": "code",
   "execution_count": 16,
   "metadata": {
    "scrolled": true
   },
   "outputs": [
    {
     "data": {
      "text/plain": [
       "GridSearchCV(cv=10, estimator=KNeighborsClassifier(), n_jobs=-1,\n",
       "             param_grid={'n_neighbors': [1, 6, 11, 16, 21, 26, 31, 36, 41, 46]},\n",
       "             scoring='f1')"
      ]
     },
     "execution_count": 16,
     "metadata": {},
     "output_type": "execute_result"
    }
   ],
   "source": [
    "#set training dataset\n",
    "X = processed_data.values\n",
    "y = df.Fraud\n",
    "\n",
    "#perform stratified split on the data to preserve the class proportionality\n",
    "X_train, X_test, y_train, y_test = train_test_split(X, y, stratify=y, test_size=0.2)\n",
    "\n",
    "# create instance of KNN \n",
    "knn = KNeighborsClassifier()\n",
    "\n",
    "#perform gridsearch to identify the optimum \n",
    "model_parameters = {'n_neighbors':list(range(1,51,5))}\n",
    "test_model_KNN = GridSearchCV(estimator=knn, param_grid=model_parameters, scoring = 'f1', cv=10, n_jobs=-1) # use f1 score as a metric for imbalanced dataset\n",
    "test_model_KNN.fit(X_train,y_train)"
   ]
  },
  {
   "cell_type": "markdown",
   "metadata": {},
   "source": [
    "Let's look at the best estimator and the best score that has achieved."
   ]
  },
  {
   "cell_type": "code",
   "execution_count": 17,
   "metadata": {},
   "outputs": [
    {
     "name": "stdout",
     "output_type": "stream",
     "text": [
      "KNeighborsClassifier(n_neighbors=1)\n",
      "0.9779173080971881\n"
     ]
    }
   ],
   "source": [
    "print(test_model_KNN.best_estimator_)\n",
    "print(test_model_KNN.best_score_)"
   ]
  },
  {
   "cell_type": "markdown",
   "metadata": {},
   "source": [
    "## Performance metrics for training"
   ]
  },
  {
   "cell_type": "markdown",
   "metadata": {},
   "source": [
    "Using the above best estimator I will train this using the training dataset to retrieve the performance metrics for training."
   ]
  },
  {
   "cell_type": "code",
   "execution_count": 18,
   "metadata": {
    "scrolled": false
   },
   "outputs": [
    {
     "name": "stdout",
     "output_type": "stream",
     "text": [
      "              precision    recall  f1-score   support\n",
      "\n",
      "           0       1.00      1.00      1.00      7604\n",
      "           1       1.00      1.00      1.00       390\n",
      "\n",
      "    accuracy                           1.00      7994\n",
      "   macro avg       1.00      1.00      1.00      7994\n",
      "weighted avg       1.00      1.00      1.00      7994\n",
      "\n",
      "\n",
      "The F1 score for the KNN classifier on training dataset is: 1.0\n",
      "\n"
     ]
    }
   ],
   "source": [
    "#use best estimator for predicting the labels on the training set\n",
    "y_pred_train = test_model_KNN.best_estimator_.predict(X_train)\n",
    "#print classification report\n",
    "print(classification_report(y_train, y_pred_train))\n",
    "print(f'\\nThe F1 score for the KNN classifier on training dataset is: {f1_score(y_train, y_pred_train):.3}\\n')"
   ]
  },
  {
   "cell_type": "markdown",
   "metadata": {},
   "source": [
    "It is clear that the best estimator KNN model trained on the training dataset performs exceptionally well with a macro F1 score=1. \n",
    "\n",
    "The weighted F1 score favours the label in the dataset which appears more frequently by setting the weight of this equal to the proportion of the label with respect to the data size. In this application, since the fraudulent instances account only for 5% of the dataset, using the weighted F1 score will tend to give higher score since the non-fraudulent instances account for apprx. 95%. Therefore the model will predict the most frequent label most of the time (depending on model selection and parameters) and it will not give a good indication of the performance on the unbalanced dataset.\n",
    "<p>\n",
    "From the graph below of the scoring against the K values it can be seen that the highest performance is achieved by the model when the value K is equal to 1.  "
   ]
  },
  {
   "cell_type": "code",
   "execution_count": 19,
   "metadata": {},
   "outputs": [
    {
     "data": {
      "image/png": "[encoded data removed]",
      "text/plain": [
       "<Figure size 576x432 with 1 Axes>"
      ]
     },
     "metadata": {
      "needs_background": "light"
     },
     "output_type": "display_data"
    }
   ],
   "source": [
    "#plot the scoring graph \n",
    "scores = test_model_KNN.cv_results_['mean_test_score']\n",
    "k_values = [1, 6, 11, 16, 21, 26, 31, 36, 41, 46]\n",
    "fig = plt.figure(figsize=(8,6))\n",
    "plt.plot(k_values, scores)\n",
    "plt.xticks(k_values, labels=k_values)\n",
    "plt.ylabel('F1 score', fontdict={'fontsize':13})\n",
    "plt.xlabel('K-Nearest Neighbour', fontdict={'fontsize':13})\n",
    "plt.title('K-Nearest Neighbours scores', fontdict={'fontsize':15})\n",
    "plt.grid()"
   ]
  },
  {
   "cell_type": "markdown",
   "metadata": {},
   "source": [
    "## Model 2 Devlopment"
   ]
  },
  {
   "cell_type": "markdown",
   "metadata": {},
   "source": [
    "Deploying RandomForest machine learning algorith as second model. The reasons for using RandomForest:\n",
    "1. Ensemble machine learning models take advantage of their agregated decisions which are based on samping methods of the input dataset by diversifying the properties of each sub-model within the ensemble and exposing various dynamics for each data split. This will enable to take a more sophisticated approach towards classification with the method of  'model voting'.\n",
    "2. Due to the random sampling of the data attributes for each sub-model of the ensemble, this method promotes diverisity among the predictors (Tan et al,2019). \n",
    "3. Random Forest classifier, due to its underlying functionality has low bias and reduced variance. As a result this makes the Random Forest classification model robust to overfitting.\n",
    "4. With Random Forest classifier, standardisation or normalisation of data is not required since the model operates on a rule-based approach. This makes the model robust to datasets which exhibit high variety of the scales among all attributes. "
   ]
  },
  {
   "cell_type": "markdown",
   "metadata": {},
   "source": [
    "### Schematic figure of the process "
   ]
  },
  {
   "attachments": {
    "184d4865-39dc-4b36-8eb5-c59745425f81.png": {
     "image/png": "[encoded data removed]"
    }
   },
   "cell_type": "markdown",
   "metadata": {},
   "source": [
    "![image.png](attachment:184d4865-39dc-4b36-8eb5-c59745425f81.png)"
   ]
  },
  {
   "cell_type": "markdown",
   "metadata": {},
   "source": [
    "The ensemble model Random Forest, is a robust model when it comes to overfitting. It enables to adjust its parameters so that the trees do not overgrow and prevent overfitting. I have selected the following hyperparameters to tune and compare with the method of GridSearch:\n",
    "* _Number of estimators_: by introducing a variety of estimators in the ensemble model, it promotes the decorrelation of the sub-models to enhance the aggregate decision from each participant tree. Setting parameters such as bootstrap to 'True', will further infuse diversity among the trees and help to improve the results.\n",
    "* _Maximum depth_: If a tree is allowed to fully grow, then it will make splits at each node until the impurity reaches 0. However, this is not a good approach because if the model is used on unseen data, the same splits performed while training the model may not follow exactly the same route with the new data. Therefore the model will not be able to generalise well on the new data.\n",
    "* _Maximum leaf nodes_: Limiting the number of leaf nodes is a pre-pruning technique to prevent the tree from fully growing which helps to avoid overfitting of the model. \n",
    "\n",
    "References:\n",
    "\n",
    "Scikit-learn developers 2020. Random Forest classifier website. [Online]. [Accessed 25 June 2021]. Available from: https://scikit-learn.org \n",
    "\n"
   ]
  },
  {
   "cell_type": "markdown",
   "metadata": {},
   "source": [
    "### Optimising hyper parameters\n"
   ]
  },
  {
   "cell_type": "markdown",
   "metadata": {},
   "source": [
    "Performing GridSearch with stratified cross-validation to find out about the best hyperparameters."
   ]
  },
  {
   "cell_type": "code",
   "execution_count": 20,
   "metadata": {},
   "outputs": [
    {
     "data": {
      "text/plain": [
       "GridSearchCV(cv=10, estimator=RandomForestClassifier(), n_jobs=-1,\n",
       "             param_grid={'max_depth': [2, 4, 6, 8, 10, 12, 14, 16, 18],\n",
       "                         'max_leaf_nodes': [2, 4, 6, 8],\n",
       "                         'n_estimators': [1, 21, 41, 61, 81]},\n",
       "             scoring='f1')"
      ]
     },
     "execution_count": 20,
     "metadata": {},
     "output_type": "execute_result"
    }
   ],
   "source": [
    "# create instance of RandomForest \n",
    "RF = RandomForestClassifier()\n",
    "\n",
    "# perform gridsearch to identify the optimum \n",
    "model_parameters = {'n_estimators':list(range(1,100,20)), \n",
    "                    'max_depth': list(range(2,20,2)),\n",
    "                    'max_leaf_nodes': list(range(2,10,2)) }\n",
    "test_model_RF = GridSearchCV(estimator=RF, param_grid=model_parameters, scoring = 'f1', cv=10, n_jobs=-1) # use f1 score as a metric for imbalanced dataset\n",
    "test_model_RF.fit(X_train,y_train)"
   ]
  },
  {
   "cell_type": "markdown",
   "metadata": {},
   "source": [
    "Viewing the best hyperpatameters and best scores that the estimator has computed."
   ]
  },
  {
   "cell_type": "code",
   "execution_count": 21,
   "metadata": {},
   "outputs": [
    {
     "name": "stdout",
     "output_type": "stream",
     "text": [
      "{'max_depth': 4, 'max_leaf_nodes': 6, 'n_estimators': 61}\n",
      "0.9961367746177873\n"
     ]
    }
   ],
   "source": [
    "print(test_model_RF.best_params_)\n",
    "print(test_model_RF.best_score_)"
   ]
  },
  {
   "cell_type": "code",
   "execution_count": 22,
   "metadata": {},
   "outputs": [
    {
     "data": {
      "text/html": [
       "<div>\n",
       "<style scoped>\n",
       "    .dataframe tbody tr th:only-of-type {\n",
       "        vertical-align: middle;\n",
       "    }\n",
       "\n",
       "    .dataframe tbody tr th {\n",
       "        vertical-align: top;\n",
       "    }\n",
       "\n",
       "    .dataframe thead th {\n",
       "        text-align: right;\n",
       "    }\n",
       "</style>\n",
       "<table border=\"1\" class=\"dataframe\">\n",
       "  <thead>\n",
       "    <tr style=\"text-align: right;\">\n",
       "      <th></th>\n",
       "      <th>max_depth</th>\n",
       "      <th>max_leaf_nodes</th>\n",
       "      <th>n_estimators</th>\n",
       "      <th>F1_score</th>\n",
       "      <th>Combined_parameters</th>\n",
       "    </tr>\n",
       "  </thead>\n",
       "  <tbody>\n",
       "    <tr>\n",
       "      <th>0</th>\n",
       "      <td>2</td>\n",
       "      <td>2</td>\n",
       "      <td>1</td>\n",
       "      <td>0.839362</td>\n",
       "      <td>2, 2, 1</td>\n",
       "    </tr>\n",
       "    <tr>\n",
       "      <th>1</th>\n",
       "      <td>2</td>\n",
       "      <td>2</td>\n",
       "      <td>21</td>\n",
       "      <td>0.878409</td>\n",
       "      <td>2, 2, 21</td>\n",
       "    </tr>\n",
       "    <tr>\n",
       "      <th>2</th>\n",
       "      <td>2</td>\n",
       "      <td>2</td>\n",
       "      <td>41</td>\n",
       "      <td>0.887289</td>\n",
       "      <td>2, 2, 41</td>\n",
       "    </tr>\n",
       "    <tr>\n",
       "      <th>3</th>\n",
       "      <td>2</td>\n",
       "      <td>2</td>\n",
       "      <td>61</td>\n",
       "      <td>0.889388</td>\n",
       "      <td>2, 2, 61</td>\n",
       "    </tr>\n",
       "    <tr>\n",
       "      <th>4</th>\n",
       "      <td>2</td>\n",
       "      <td>2</td>\n",
       "      <td>81</td>\n",
       "      <td>0.888527</td>\n",
       "      <td>2, 2, 81</td>\n",
       "    </tr>\n",
       "  </tbody>\n",
       "</table>\n",
       "</div>"
      ],
      "text/plain": [
       "   max_depth  max_leaf_nodes  n_estimators  F1_score Combined_parameters\n",
       "0          2               2             1  0.839362             2, 2, 1\n",
       "1          2               2            21  0.878409            2, 2, 21\n",
       "2          2               2            41  0.887289            2, 2, 41\n",
       "3          2               2            61  0.889388            2, 2, 61\n",
       "4          2               2            81  0.888527            2, 2, 81"
      ]
     },
     "execution_count": 22,
     "metadata": {},
     "output_type": "execute_result"
    }
   ],
   "source": [
    "#create a dataframe from the model hyperparameters and scores\n",
    "RF_grid_results = pd.DataFrame(test_model_RF.cv_results_['params'])\n",
    "RF_grid_results['F1_score'] = test_model_RF.cv_results_['mean_test_score']\n",
    "RF_grid_results['Combined_parameters'] = RF_grid_results.apply(lambda x:'%s, %s, %s' % (int(x['max_depth']),int(x['max_leaf_nodes']),int(x['n_estimators'])),\n",
    "                                                               axis=1)\n",
    "RF_grid_results.head()"
   ]
  },
  {
   "cell_type": "markdown",
   "metadata": {},
   "source": [
    "### Performance metrics for training"
   ]
  },
  {
   "cell_type": "markdown",
   "metadata": {},
   "source": [
    "Using the above best estimator I will train this using the training dataset to retrieve the performance metrics for training."
   ]
  },
  {
   "cell_type": "code",
   "execution_count": 23,
   "metadata": {},
   "outputs": [
    {
     "name": "stdout",
     "output_type": "stream",
     "text": [
      "              precision    recall  f1-score   support\n",
      "\n",
      "           0       1.00      1.00      1.00      7604\n",
      "           1       1.00      0.99      1.00       390\n",
      "\n",
      "    accuracy                           1.00      7994\n",
      "   macro avg       1.00      1.00      1.00      7994\n",
      "weighted avg       1.00      1.00      1.00      7994\n",
      "\n",
      "\n",
      "The F1 score for the Random Forest classifier on training dataset is: 0.997\n",
      "\n"
     ]
    }
   ],
   "source": [
    "#use best estimator for predicting the labels on the training set\n",
    "y_pred_train = test_model_RF.best_estimator_.predict(X_train)\n",
    "#print classification report\n",
    "print(classification_report(y_train, y_pred_train))\n",
    "print(f'\\nThe F1 score for the Random Forest classifier on training dataset is: {f1_score(y_train, y_pred_train):.3}\\n')"
   ]
  },
  {
   "cell_type": "markdown",
   "metadata": {},
   "source": [
    "Plotting F1_score for each of the hyperparameters combination as it is shown in the dataframe above.\n",
    "<p>The column 'Combined_parameters' in the dataframe includes entries of three integers which represent the ( _max_depth, max_leaf_nodes, n_estimators_ ). \n",
    "<p>The same for the graph below, each value of the X-axis represents this tuple of hyperparameters."
   ]
  },
  {
   "cell_type": "code",
   "execution_count": 24,
   "metadata": {
    "scrolled": false
   },
   "outputs": [
    {
     "data": {
      "image/png": "[encoded data removed]",
      "text/plain": [
       "<Figure size 2520x1440 with 1 Axes>"
      ]
     },
     "metadata": {
      "needs_background": "light"
     },
     "output_type": "display_data"
    }
   ],
   "source": [
    "#plot the scoring graph \n",
    "scores = RF_grid_results.F1_score\n",
    "combined_params = RF_grid_results.Combined_parameters\n",
    "fig = plt.figure(figsize=(35,20))\n",
    "plt.bar(combined_params, scores)\n",
    "plt.xticks(combined_params, labels=combined_params,rotation=90)\n",
    "plt.yticks(np.arange(0.9,1,0.002).round(3), labels=np.arange(0.9,1,0.002).round(3))\n",
    "plt.ylabel('F1 score', fontdict={'fontsize':20})\n",
    "plt.xlabel('Combined parameters', fontdict={'fontsize':20})\n",
    "plt.ylim(0.9, 1)\n",
    "#find the maximum score index\n",
    "max_idx = RF_grid_results.F1_score.idxmax()\n",
    "x = RF_grid_results.Combined_parameters[max_idx]\n",
    "y = RF_grid_results.F1_score[max_idx]\n",
    "#highlight in red the maximum socre on graph\n",
    "plt.bar(x, y, color='red')\n",
    "plt.annotate('highest score', xy=(x,y+0.001), fontsize=20, color='red')\n",
    "plt.title('Random Forest optimisation scores', fontdict={'fontsize':30})\n",
    "plt.grid()\n"
   ]
  },
  {
   "cell_type": "markdown",
   "metadata": {},
   "source": [
    "## Comparison of metrics performance for testing \n",
    "\n"
   ]
  },
  {
   "cell_type": "markdown",
   "metadata": {},
   "source": [
    "### Use of cross validation for both techniques to deal with over-fitting"
   ]
  },
  {
   "cell_type": "markdown",
   "metadata": {},
   "source": [
    "Viewing the cross validation scores for each of the estimators."
   ]
  },
  {
   "cell_type": "code",
   "execution_count": 25,
   "metadata": {},
   "outputs": [
    {
     "name": "stdout",
     "output_type": "stream",
     "text": [
      "The averaged cross-validation scores for each run for the KNN classifer are:\n",
      "\n",
      "[0.97791731 0.97350642 0.97220772 0.96813709 0.96673168 0.96262498\n",
      " 0.96262498 0.95844423 0.95844423 0.95844423] \n",
      "\n"
     ]
    }
   ],
   "source": [
    "print('The averaged cross-validation scores for each run for the KNN classifer are:\\n')\n",
    "print(test_model_KNN.cv_results_['mean_test_score'],'\\n')"
   ]
  },
  {
   "cell_type": "code",
   "execution_count": 26,
   "metadata": {
    "scrolled": false
   },
   "outputs": [
    {
     "name": "stdout",
     "output_type": "stream",
     "text": [
      "The averaged cross-validation scores for each run for the Random Forest classifer are:\n",
      "\n",
      "[0.83936153 0.87840879 0.88728899 0.88938778 0.88852739 0.93251268\n",
      " 0.9445065  0.92894992 0.93183935 0.92631834 0.88180549 0.93313664\n",
      " 0.9271671  0.93650551 0.9406961  0.90102768 0.93716333 0.92874702\n",
      " 0.93364306 0.92724902 0.80701376 0.87565066 0.8882658  0.88488854\n",
      " 0.88340821 0.93061675 0.97299719 0.96259229 0.96860341 0.97163577\n",
      " 0.93248681 0.98343674 0.99357225 0.99613677 0.99613677 0.94949682\n",
      " 0.99613677 0.99613677 0.99483807 0.99613677 0.85135793 0.88642756\n",
      " 0.88484056 0.88679067 0.88983842 0.9193692  0.96550425 0.94587628\n",
      " 0.96593951 0.97921011 0.92561856 0.96935456 0.99613677 0.99613677\n",
      " 0.9895052  0.96514432 0.99613677 0.99613677 0.99487095 0.99613677\n",
      " 0.87596651 0.88778749 0.88169593 0.88330905 0.88970339 0.96653228\n",
      " 0.96397843 0.97391141 0.96983758 0.96417218 0.94896737 0.98757632\n",
      " 0.98946555 0.99613677 0.99613677 0.93379128 0.99613677 0.99613677\n",
      " 0.99613677 0.99613677 0.76441775 0.8766194  0.89589756 0.88045189\n",
      " 0.88354713 0.9190409  0.96368915 0.9401287  0.94430337 0.95994915\n",
      " 0.95658985 0.98809979 0.99613677 0.99613677 0.99613677 0.96411738\n",
      " 0.9850118  0.99613677 0.99613677 0.99613677 0.87911149 0.89141542\n",
      " 0.88322365 0.88623988 0.88503115 0.90019031 0.95892957 0.9824026\n",
      " 0.97895371 0.97546681 0.94199206 0.9753634  0.99613677 0.99613677\n",
      " 0.98647056 0.944179   0.99357225 0.99487095 0.99613677 0.99613677\n",
      " 0.85529617 0.89284022 0.88173159 0.88181878 0.88642608 0.88873664\n",
      " 0.95693724 0.97281454 0.96227812 0.97062038 0.93499131 0.98754344\n",
      " 0.99613677 0.99613677 0.99613677 0.96957196 0.99613677 0.98520474\n",
      " 0.99613677 0.99613677 0.86909152 0.88498566 0.88373334 0.87735666\n",
      " 0.88642608 0.9336484  0.95563854 0.9632384  0.97555328 0.96954831\n",
      " 0.969415   0.97238961 0.98953807 0.99613677 0.99483807 0.96921961\n",
      " 0.99213677 0.99487095 0.99613677 0.99613677 0.84868969 0.89117804\n",
      " 0.88825695 0.88373724 0.87693047 0.8908138  0.96932138 0.96977888\n",
      " 0.97065782 0.97101306 0.97739168 0.99483807 0.99483807 0.99613677\n",
      " 0.99613677 0.93981075 0.99487095 0.99613677 0.99613677 0.99613677] \n",
      "\n"
     ]
    }
   ],
   "source": [
    "print('The averaged cross-validation scores for each run for the Random Forest classifer are:\\n')\n",
    "print(test_model_RF.cv_results_['mean_test_score'],'\\n')"
   ]
  },
  {
   "cell_type": "markdown",
   "metadata": {},
   "source": [
    "### Comparison with appropriate metrics for testing"
   ]
  },
  {
   "cell_type": "markdown",
   "metadata": {},
   "source": [
    "1. Evauating of the two classifiers using the stratified X_test & y_test dataset obtained previously.\n",
    "2. Calculating the confusion matrix to understand how the models perform in relation to the business demands; meaning mimimise the False Negatives and False Positives instances."
   ]
  },
  {
   "cell_type": "code",
   "execution_count": 27,
   "metadata": {},
   "outputs": [
    {
     "name": "stdout",
     "output_type": "stream",
     "text": [
      "              precision    recall  f1-score   support\n",
      "\n",
      "           0       1.00      1.00      1.00      1901\n",
      "           1       0.99      0.95      0.97        98\n",
      "\n",
      "    accuracy                           1.00      1999\n",
      "   macro avg       0.99      0.97      0.98      1999\n",
      "weighted avg       1.00      1.00      1.00      1999\n",
      "\n",
      "\n",
      "The fraudulent class F1 score for the KNN classifier on testing dataset is: 0.969\n",
      "\n"
     ]
    }
   ],
   "source": [
    "#Evaluation metrics for KNN model\n",
    "#use best estimator for predicting the labels on the testing set\n",
    "y_pred_KNN = test_model_KNN.best_estimator_.predict(X_test)\n",
    "#print classification report\n",
    "print(classification_report(y_test, y_pred_KNN))\n",
    "print(f'\\nThe fraudulent class F1 score for the KNN classifier on testing dataset is: {f1_score(y_test, y_pred_KNN):.3}\\n')"
   ]
  },
  {
   "cell_type": "code",
   "execution_count": 28,
   "metadata": {},
   "outputs": [
    {
     "name": "stdout",
     "output_type": "stream",
     "text": [
      "              precision    recall  f1-score   support\n",
      "\n",
      "           0       1.00      1.00      1.00      1901\n",
      "           1       1.00      0.97      0.98        98\n",
      "\n",
      "    accuracy                           1.00      1999\n",
      "   macro avg       1.00      0.98      0.99      1999\n",
      "weighted avg       1.00      1.00      1.00      1999\n",
      "\n",
      "\n",
      "The fraudulent class F1 score for the Random Forest classifier on testing dataset is: 0.984\n",
      "\n"
     ]
    }
   ],
   "source": [
    "#Evaluation metrics for RF model\n",
    "#use best estimator for predicting the labels on the testing set\n",
    "y_pred_RF = test_model_RF.best_estimator_.predict(X_test)\n",
    "#print classification report\n",
    "print(classification_report(y_test, y_pred_RF))\n",
    "print(f'\\nThe fraudulent class F1 score for the Random Forest classifier on testing dataset is: {f1_score(y_test, y_pred_RF):.3}\\n')"
   ]
  },
  {
   "cell_type": "markdown",
   "metadata": {},
   "source": [
    "Both models have good enough scores to cover the previously mentioned criteria\n",
    "Reminder:\n",
    "* Achieve a Recall of >90% (with respect to the fraudulent class-1) - **achieved for both models**\n",
    "* Achieve a Precision of >70% (with respect to the fraudulent class-1) - **achieved for both models**\n",
    "\n",
    "However the Random Forest classifier outperforms the KNN classifier.\n",
    "\n",
    "Below I will compare the models with respect to the financial losses."
   ]
  },
  {
   "cell_type": "code",
   "execution_count": 29,
   "metadata": {},
   "outputs": [],
   "source": [
    "#function to plot the confusion matrix\n",
    "def plot_confusion_matrix(ytrue, ypred, labels,title, normalise=False):\n",
    "    \"\"\"\n",
    "    This function plots confusion matrix. \n",
    "    If Normalize='True' plot with normalised values.\n",
    "\n",
    "    \"\"\"\n",
    "    cm = confusion_matrix(ytrue, ypred, labels=labels)\n",
    "    plt.figure(figsize=(5,5))\n",
    "    if normalise:\n",
    "        cm = cm/ cm.sum(axis=1)\n",
    "    plt.imshow(cm, interpolation='nearest', cmap=plt.cm.Purples)\n",
    "    ticks = np.arange(len(labels))\n",
    "    plt.xticks(ticks, labels)\n",
    "    plt.yticks(ticks, labels)\n",
    "    #format and show values in the matrix \n",
    "    if normalise:\n",
    "        type_format = '.2f'\n",
    "    else:\n",
    "        type_format = 'd'\n",
    "    #set threshold for value visibility\n",
    "    threshold = cm.max() / 2\n",
    "    for i in range(cm.shape[0]):\n",
    "        for j in range(cm.shape[1]):\n",
    "            plt.text(j, i, format(cm[i, j], type_format), horizontalalignment=\"center\",color=\"white\" if cm[i, j] > threshold else \"black\")\n",
    "    plt.tight_layout()\n",
    "    plt.title(title)\n",
    "    plt.ylabel('True class')\n",
    "    plt.xlabel('Predicted class')\n",
    "    \n",
    "#function to retrieve FP,FN,TP,TN counts\n",
    "def class_predictions(ytrue, ypred, labels):\n",
    "    \"\"\"\n",
    "    Accepts the labels in [1,0] format. True label first.\n",
    "    Returns TP, FP, TN, FN\n",
    "\n",
    "    \"\"\"    \n",
    "    cm = confusion_matrix(ytrue, ypred, labels=labels)\n",
    "    TP=FP=TN=FN = 0\n",
    "    #get the TP \n",
    "    TP = cm[0,0]\n",
    "    #get the TN\n",
    "    TN = cm[1,1]\n",
    "    #get the FN\n",
    "    FN = cm[0,1]\n",
    "    #get the FP\n",
    "    FP = cm[1,0]\n",
    "    return TP,FP,TN,FN\n",
    "    "
   ]
  },
  {
   "cell_type": "code",
   "execution_count": 30,
   "metadata": {},
   "outputs": [
    {
     "data": {
      "image/png": "[encoded data removed]",
      "text/plain": [
       "<Figure size 360x360 with 1 Axes>"
      ]
     },
     "metadata": {
      "needs_background": "light"
     },
     "output_type": "display_data"
    }
   ],
   "source": [
    "#plot confusion matrix for KNN classifier\n",
    "plot_confusion_matrix(y_test, y_pred_KNN, labels=[1,0], title='KNN Confusion Matrix', normalise=False)\n",
    "TP, FP, TN, FN = class_predictions(y_test, y_pred_KNN, labels=[1,0])\n"
   ]
  },
  {
   "cell_type": "code",
   "execution_count": 31,
   "metadata": {},
   "outputs": [
    {
     "name": "stdout",
     "output_type": "stream",
     "text": [
      "KNN classifier returns 1 False Positives. At the cost of £1k for each FP the financial loss = £1k x 1 = £1k\n",
      "\n",
      "KNN classifier returns 5 False Negatives. At the cost of £10k for each FP the financial loss = £10k x 5 = £50k\n",
      "\n",
      "The total financial loss for the KNN model is £50k + £1k = £51k\n"
     ]
    }
   ],
   "source": [
    "print(f'KNN classifier returns {FP} False Positives. At the cost of £1k for each FP the financial loss = £1k x {FP} = £{1*FP}k\\n')\n",
    "print(f'KNN classifier returns {FN} False Negatives. At the cost of £10k for each FP the financial loss = £10k x {FN} = £{10*FN}k\\n')\n",
    "print(f'The total financial loss for the KNN model is £{10*FN}k + £{1*FP}k = £{1*FP + 10*FN}k')"
   ]
  },
  {
   "cell_type": "code",
   "execution_count": 32,
   "metadata": {},
   "outputs": [
    {
     "data": {
      "image/png": "[encoded data removed]",
      "text/plain": [
       "<Figure size 360x360 with 1 Axes>"
      ]
     },
     "metadata": {
      "needs_background": "light"
     },
     "output_type": "display_data"
    }
   ],
   "source": [
    "#plot confusion matrix for Random Forest classifier\n",
    "plot_confusion_matrix(y_test, y_pred_RF, labels=[1,0], title='Random Forest Confusion Matrix', normalise=False)\n",
    "TP, FP, TN, FN = class_predictions(y_test, y_pred_RF,labels=[1,0])\n"
   ]
  },
  {
   "cell_type": "code",
   "execution_count": 33,
   "metadata": {},
   "outputs": [
    {
     "name": "stdout",
     "output_type": "stream",
     "text": [
      "RF classifier returns 0 False Positives. At the cost of £1k for each FP the financial loss = £1k x 0 = £0k\n",
      "\n",
      "RF classifier returns 3 False Negatives. At the cost of £10k for each FP the financial loss = £10k x 3 = £30k\n",
      "\n",
      "The total financial loss for the RF model is £30k + £0k = £30k\n",
      "\n"
     ]
    }
   ],
   "source": [
    "print(f'RF classifier returns {FP} False Positives. At the cost of £1k for each FP the financial loss = £1k x {FP} = £{1*FP}k\\n')\n",
    "print(f'RF classifier returns {FN} False Negatives. At the cost of £10k for each FP the financial loss = £10k x {FN} = £{10*FN}k\\n')\n",
    "print(f'The total financial loss for the RF model is £{10*FN}k + £{1*FP}k = £{1*FP + 10*FN}k\\n')"
   ]
  },
  {
   "cell_type": "markdown",
   "metadata": {},
   "source": [
    "Its is obvious that Random Forest classifier will tend to be the better option for this application and achieve higher financial savings."
   ]
  },
  {
   "cell_type": "markdown",
   "metadata": {},
   "source": [
    "### Model selection  - comparison"
   ]
  },
  {
   "cell_type": "markdown",
   "metadata": {},
   "source": [
    "The Area Under Curve score and the ROC curves are good method to compare different classification models. Particularly in this problem, since we care more about the False Negative predictions because they cost more money to the bank, we want to compare and identify whiuch model minimises best the False Negatives. For this reason we expect to see on the ROC curve a high True Positive rate which will push the ROC curve towards the uppper left corner of the graph.  \n",
    "\n",
    "References:\n",
    "\n",
    "Scikit-learn developers 2020. Receiver Operating Characteristic website. [Online]. [Accessed 25 June 2021]. Available from: https://scikit-learn.org "
   ]
  },
  {
   "cell_type": "code",
   "execution_count": 34,
   "metadata": {},
   "outputs": [],
   "source": [
    "#calculate KNN probabilities \n",
    "y_prob_test_KNN = test_model_KNN.best_estimator_.predict_proba(X_test)"
   ]
  },
  {
   "cell_type": "code",
   "execution_count": 35,
   "metadata": {},
   "outputs": [],
   "source": [
    "#calculate RF probabilities \n",
    "y_prob_test_RF = test_model_RF.best_estimator_.predict_proba(X_test)"
   ]
  },
  {
   "cell_type": "code",
   "execution_count": 36,
   "metadata": {
    "scrolled": false
   },
   "outputs": [
    {
     "name": "stdout",
     "output_type": "stream",
     "text": [
      "The KNN ROC Area Under Curve is 0.974\n",
      "The Random Forest ROC Area Under Curve is 1.000\n"
     ]
    },
    {
     "data": {
      "image/png": "[encoded data removed]",
      "text/plain": [
       "<Figure size 720x360 with 1 Axes>"
      ]
     },
     "metadata": {
      "needs_background": "light"
     },
     "output_type": "display_data"
    }
   ],
   "source": [
    "# calculate the Area Under Curve scores\n",
    "KNN_auc_score = roc_auc_score(y_test,y_prob_test_KNN[:, 1])\n",
    "RF_auc_score = roc_auc_score(y_test, y_prob_test_RF[:, 1])\n",
    "# print the AUC scores\n",
    "print(f'The KNN ROC Area Under Curve is {KNN_auc_score:.3f}')\n",
    "print(f'The Random Forest ROC Area Under Curve is {RF_auc_score:.3f}')      \n",
    "# calculate the ROC curves\n",
    "fpr_KNN, tpr_KNN, thresholds_KNN = roc_curve(y_test,y_prob_test_KNN[:, 1])\n",
    "fpr_RF, tpr_RF, thresholds_RF = roc_curve(y_test, y_prob_test_RF[:, 1])\n",
    "# plot the ROC curves for each model\n",
    "plt.figure(figsize=(10,5))\n",
    "plt.plot(fpr_KNN, tpr_KNN, label='KNN')\n",
    "plt.plot(fpr_RF, tpr_RF, label='RF')\n",
    "plt.plot([0, 1], [0, 1], color='k',linestyle=':')\n",
    "plt.xlabel('False Positive Rate')\n",
    "plt.ylabel('True Positive Rate')\n",
    "plt.title('Area Under Curve')\n",
    "plt.legend()\n",
    "plt.show()"
   ]
  },
  {
   "cell_type": "markdown",
   "metadata": {},
   "source": [
    "From the ROC graph, both models perform really well for this problem. Especially the Random Forest classifier performs even better than the KNN classifier and this is also demonstarted by the calculated areas under curve, in which Random Forest classifier achieves a higher score. "
   ]
  },
  {
   "cell_type": "markdown",
   "metadata": {},
   "source": [
    "## Final recommendation of best model"
   ]
  },
  {
   "cell_type": "markdown",
   "metadata": {},
   "source": [
    "* In this problem, both models KNN classifier and Random Forest classifier performed well on classifying the fraudulent credit card transactions.\n",
    "* Even though both estimators achieved very high performance metrics, close to 100%, it has been demonstarted that the Random Forest model outperforms the KNN model.\n",
    "* Both models avoided overfitting as both training and testing performance metrics are similar.\n",
    "* KNN classifier can be extremely fast, once all distances between the points (samples) have been calculated. However, when a new instance is given to be classified, the algorithm will need to re-estimate all the distances between the samples. During model optimisation the model concludes to the best parameters very fast as the only major parameter to be optimised is the K-Neighbours.\n",
    "* Random Forest is also a fast algorithm to train but once the best estimator is selected, future instances are faster to calculate than KNN classifier since there is no need to re-train the model. During optimisation process, Random Forest classifier takes significantly more time than the KNN classifier to conclude on the best estimator due to the higher number of model hyperparameters and the combinations that grid search needs to compare.  "
   ]
  },
  {
   "cell_type": "markdown",
   "metadata": {},
   "source": [
    "### Review results from a business perspective\n"
   ]
  },
  {
   "cell_type": "markdown",
   "metadata": {},
   "source": [
    "As it has been demonstrated above, from a business point of view both models are able to achieve the desired Recall (>90%) and Precission (>70%) as specified by the client.\n",
    "\n",
    "The most important comparison from the financial point of view is the running costs of the models based on their capabilities to minimise the False Positives and False Negatives instances.\n",
    "\n",
    "The Random Forest classifier achieved substantial financial savings for the bank. \n",
    "\n",
    "Based on the overall performance metrics and the financial savings, the recommendatioin to be put forward to the bank, is to deploy the Random Forest classifier. "
   ]
  },
  {
   "cell_type": "markdown",
   "metadata": {},
   "source": [
    "## Conclusion"
   ]
  },
  {
   "cell_type": "markdown",
   "metadata": {},
   "source": [
    "* The project has succesfully proven and concluded that the Random Forest classifier outperforms the KNN classifier and is able to meet the financial expenditures set by the bank. Therefore the recommended model to be deployed is Random Forest Classifier.\n",
    "* The project succeeded in setting up appropriately the machine learning models to achieve very high performance scores to meet the business requirements."
   ]
  },
  {
   "cell_type": "markdown",
   "metadata": {},
   "source": [
    "### Future work"
   ]
  },
  {
   "cell_type": "markdown",
   "metadata": {},
   "source": [
    "A list of future work I would recommend for further development is:\n",
    "\n",
    "* Develop a logistic regression model and perform classification with the model. The logistic regression model is ideal to deal with this bulk of data and numerical features. The logistic regresssion model also provides the benefit of using the weights from each feature and perform feature engineering to narrow down the dataset only to the most important features, ie. to the features highly correlated to the target label.\n",
    "* Perform PCA on the data for dimensionality reduction and draw the explained variance graph. This is a mathematically more sophisticated method to obtaon the attributes which carry the most of information (explained variance) to be used by the model.\n",
    "* I also recommend to test the above trained machine learning algorithms on larger dataset which will enable for better model optimisation and help with achieving good generalisation. \n",
    "* Perform model optimisation including more parameters and consider a higher combination of hyperparameters."
   ]
  }
 ],
 "metadata": {
  "kernelspec": {
   "display_name": "Python 3",
   "language": "python",
   "name": "python3"
  },
  "language_info": {
   "codemirror_mode": {
    "name": "ipython",
    "version": 3
   },
   "file_extension": ".py",
   "mimetype": "text/x-python",
   "name": "python",
   "nbconvert_exporter": "python",
   "pygments_lexer": "ipython3",
   "version": "3.8.8"
  }
 },
 "nbformat": 4,
 "nbformat_minor": 4
}
