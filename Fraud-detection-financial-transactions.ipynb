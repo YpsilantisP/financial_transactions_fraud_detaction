{
 "cells": [
  {
   "cell_type": "markdown",
   "metadata": {},
   "source": [
    "# Credit card fraud transactions detection & classifiers comparison "
   ]
  },
  {
   "cell_type": "markdown",
   "metadata": {},
   "source": [
    "## Case study"
   ]
  },
  {
   "cell_type": "markdown",
   "metadata": {},
   "source": [
    "A client (bank) wants to catch suspicious credit card transactions for further fraud investigation. The bank decided to invest in a new system to build a prediction model that is capable of detecting potential fraudulent transactions. The bank provided us with their historical transactions data. Each record constitutes a set of attributes for each transaction with a flag of either being normal or fraudulent. Fraudulent cases constitute a small percentage of the overall transactions.\n",
    "\n",
    "The data can be found in the _data_ folder in this repository.\n",
    "\n",
    "Each case that is nominated by the predictive model to be fraudulent and turns out to be not fraudulent costs the bank around £1k. Such cases harm the bank’s customer satisfaction ratings. The bank is willing to allow an annual budget for these cases of £30k. \n",
    "\n",
    "Each case that is not nominated by the predictive model to be fraudulent and turns out to be fraudulent costs the bank £10k on average. Such cases harm the bank’s reputation and costs them future customers. The bank is willing to allow an annual budget for these cases of £50k.\n",
    "\n",
    "The additional bank requirements are: \n",
    "\n",
    "1. to catch at least 90% of actual fraudulent cases \n",
    "2. to ensure that at least 70% of the predicted cases for further investigation are actually fraudulent.\n",
    "\n",
    "<br><br>"
   ]
  },
  {
   "cell_type": "markdown",
   "metadata": {},
   "source": [
    "## Aims, objectives and plan"
   ]
  },
  {
   "cell_type": "markdown",
   "metadata": {},
   "source": [
    "\n",
    "\n",
    "The **ultimate goal** of the project is to detect anomalies in financial transactions; specifically credit card transactions.\n",
    "The secondary goals but still important are: \n",
    "* Complete the project within the allocated budget which is £1 million. \n",
    "* Capture >90% of the fraudulent cases from the actual cases that are fraudulent transactions.\n",
    "* The model's performance in predicting fraudulent cases is to give a 70% probability of the predicted cases to be actually fraudulent. This translates to a Precission score of >70%.\n",
    "\n",
    "\n",
    "The **main objective** that will help to achieve this is to build the machine learning model to detect these anomalies/ potential fraudulent transactions.\n",
    "\n",
    "Other objectives that will help to succeed in the goal of the project are:  \n",
    "* Minimise the transactions that are detected as fraudulent but in reality are not - minimise false positive cases.\n",
    "* Minimise the transactions that are detected as not fraudulent but in reality they are - minimise false negative cases.\n",
    "* Constraint the maximum count of false negatives to 5.\n",
    "* Constraint the maximum count of false positives to 30."
   ]
  },
  {
   "cell_type": "markdown",
   "metadata": {},
   "source": [
    "##  Case study analysis\n",
    "State the key points that you found in the case and how you intend to deal with them appropriately to address the bank's needs. (You can include more than four points.)\n",
    "\n",
    "\n",
    "1. Complete the project within the allocated budget which is £1 million. This will potentially include costs of labour, meeting costs, information sourcing and administration costs.\n",
    "\n",
    "2. Capture >90% of the fraudulent cases - this means the model Recall metric to be >90% since the number of FN will indicate the fraudulent transactions that have 'escaped'.\n",
    "\n",
    "3. The model's performance in predicting fraudulent cases is to give a 70% probability of the predicted cases to be actually fraudulent. This translates to a Precision score of >70%.\n",
    "\n",
    "4. Minimise the transactions that are detected as fraudulent but in reality are not - minimise false positive cases.Especially to meet the allocated budget of the bank for up to 30 false positives and not exceeding these.\n",
    "\n",
    "5. Minimise the transactions that are detected as not fraudulent but in reality they are - minimise false negative cases.Especially to meet the allocated budget of the bank for up to 5 false negatives and not exceeding these.\n",
    "\n",
    "6. To achieve the above goals, the data I intend to develop two classification machine learning algorithms to compare their performances and evaluate them using classification technique metrics. I have selected to develop two famous classification models, KNN and RandomForest and I explain the reasons for my selctions in the following sections. Through my comparison I will be able to make conclussions as to the most suitable model for this application but also what is the model to provide the most cost-effective solution for the business. \n",
    "\n",
    "7. I will also perform hyperparameter tuning using the grid search method to be able to establish which model parameters will give the best results concerning the project objectives above.\n",
    "\n"
   ]
  },
  {
   "cell_type": "markdown",
   "metadata": {},
   "source": [
    "## Imports\n",
    "First I will import the packages needed for the project. Then I will import the raw data in the pandas dataframe to be able to manipulate the data."
   ]
  },
  {
   "cell_type": "code",
   "execution_count": 620,
   "metadata": {},
   "outputs": [],
   "source": [
    "import numpy as np\n",
    "import pandas as pd\n",
    "import matplotlib.pyplot as plt \n",
    "from sklearn.ensemble import RandomForestClassifier\n",
    "from sklearn.preprocessing import StandardScaler\n",
    "from sklearn.model_selection import StratifiedKFold, cross_val_score\n",
    "from sklearn.neighbors import KNeighborsClassifier\n",
    "from sklearn.model_selection import train_test_split\n",
    "from sklearn.metrics import confusion_matrix, classification_report, roc_curve, roc_auc_score, f1_score, precision_recall_fscore_support\n",
    "from sklearn.model_selection import GridSearchCV\n",
    "np.random.seed(42)\n"
   ]
  },
  {
   "cell_type": "code",
   "execution_count": 621,
   "metadata": {},
   "outputs": [
    {
     "data": {
      "text/html": [
       "<div>\n",
       "<style scoped>\n",
       "    .dataframe tbody tr th:only-of-type {\n",
       "        vertical-align: middle;\n",
       "    }\n",
       "\n",
       "    .dataframe tbody tr th {\n",
       "        vertical-align: top;\n",
       "    }\n",
       "\n",
       "    .dataframe thead th {\n",
       "        text-align: right;\n",
       "    }\n",
       "</style>\n",
       "<table border=\"1\" class=\"dataframe\">\n",
       "  <thead>\n",
       "    <tr style=\"text-align: right;\">\n",
       "      <th></th>\n",
       "      <th>Time</th>\n",
       "      <th>V1</th>\n",
       "      <th>V2</th>\n",
       "      <th>V3</th>\n",
       "      <th>V4</th>\n",
       "      <th>V5</th>\n",
       "      <th>V6</th>\n",
       "      <th>V7</th>\n",
       "      <th>V8</th>\n",
       "      <th>V9</th>\n",
       "      <th>...</th>\n",
       "      <th>V22</th>\n",
       "      <th>V23</th>\n",
       "      <th>V24</th>\n",
       "      <th>V25</th>\n",
       "      <th>V26</th>\n",
       "      <th>V27</th>\n",
       "      <th>V28</th>\n",
       "      <th>V28.1</th>\n",
       "      <th>Amount</th>\n",
       "      <th>Normal</th>\n",
       "    </tr>\n",
       "  </thead>\n",
       "  <tbody>\n",
       "    <tr>\n",
       "      <th>0</th>\n",
       "      <td>18088</td>\n",
       "      <td>NaN</td>\n",
       "      <td>3.854150</td>\n",
       "      <td>-12.466766</td>\n",
       "      <td>9.648311</td>\n",
       "      <td>-2.726961</td>\n",
       "      <td>-4.445610</td>\n",
       "      <td>-21.922811</td>\n",
       "      <td>0.320792</td>\n",
       "      <td>-4.433162</td>\n",
       "      <td>...</td>\n",
       "      <td>-1.504119</td>\n",
       "      <td>-19.254328</td>\n",
       "      <td>0.544867</td>\n",
       "      <td>-4.781606</td>\n",
       "      <td>-0.007772</td>\n",
       "      <td>3.052358</td>\n",
       "      <td>-0.775036</td>\n",
       "      <td>-0.775036</td>\n",
       "      <td>1218.89</td>\n",
       "      <td>0</td>\n",
       "    </tr>\n",
       "    <tr>\n",
       "      <th>1</th>\n",
       "      <td>101051</td>\n",
       "      <td>NaN</td>\n",
       "      <td>-1.093377</td>\n",
       "      <td>-0.059768</td>\n",
       "      <td>1.064785</td>\n",
       "      <td>11.095089</td>\n",
       "      <td>-5.430971</td>\n",
       "      <td>-9.378025</td>\n",
       "      <td>-0.446456</td>\n",
       "      <td>1.992110</td>\n",
       "      <td>...</td>\n",
       "      <td>-1.259697</td>\n",
       "      <td>-15.981649</td>\n",
       "      <td>-0.883670</td>\n",
       "      <td>-3.536716</td>\n",
       "      <td>-0.592965</td>\n",
       "      <td>0.675525</td>\n",
       "      <td>0.424849</td>\n",
       "      <td>0.424849</td>\n",
       "      <td>0.92</td>\n",
       "      <td>0</td>\n",
       "    </tr>\n",
       "    <tr>\n",
       "      <th>2</th>\n",
       "      <td>132688</td>\n",
       "      <td>NaN</td>\n",
       "      <td>1.861373</td>\n",
       "      <td>-4.310353</td>\n",
       "      <td>2.448080</td>\n",
       "      <td>4.574094</td>\n",
       "      <td>-2.979912</td>\n",
       "      <td>-2.792379</td>\n",
       "      <td>-2.719867</td>\n",
       "      <td>-0.276704</td>\n",
       "      <td>...</td>\n",
       "      <td>-0.348904</td>\n",
       "      <td>-3.979948</td>\n",
       "      <td>-0.828156</td>\n",
       "      <td>-2.419446</td>\n",
       "      <td>-0.767070</td>\n",
       "      <td>0.387039</td>\n",
       "      <td>0.319402</td>\n",
       "      <td>0.319402</td>\n",
       "      <td>1.00</td>\n",
       "      <td>0</td>\n",
       "    </tr>\n",
       "    <tr>\n",
       "      <th>3</th>\n",
       "      <td>95559</td>\n",
       "      <td>NaN</td>\n",
       "      <td>11.614801</td>\n",
       "      <td>-19.739386</td>\n",
       "      <td>10.463866</td>\n",
       "      <td>-12.599146</td>\n",
       "      <td>-1.202393</td>\n",
       "      <td>-23.380508</td>\n",
       "      <td>-5.781133</td>\n",
       "      <td>-7.811022</td>\n",
       "      <td>...</td>\n",
       "      <td>1.140910</td>\n",
       "      <td>1.392953</td>\n",
       "      <td>0.348997</td>\n",
       "      <td>-2.167510</td>\n",
       "      <td>-0.798754</td>\n",
       "      <td>-2.942775</td>\n",
       "      <td>-0.462680</td>\n",
       "      <td>-0.462680</td>\n",
       "      <td>1.63</td>\n",
       "      <td>0</td>\n",
       "    </tr>\n",
       "    <tr>\n",
       "      <th>4</th>\n",
       "      <td>58642</td>\n",
       "      <td>-0.451383</td>\n",
       "      <td>2.225147</td>\n",
       "      <td>-4.953050</td>\n",
       "      <td>4.342228</td>\n",
       "      <td>-3.656190</td>\n",
       "      <td>-0.020121</td>\n",
       "      <td>-5.407554</td>\n",
       "      <td>-0.748436</td>\n",
       "      <td>-1.362198</td>\n",
       "      <td>...</td>\n",
       "      <td>0.495889</td>\n",
       "      <td>1.154128</td>\n",
       "      <td>-0.016186</td>\n",
       "      <td>-2.079928</td>\n",
       "      <td>-0.554377</td>\n",
       "      <td>0.455179</td>\n",
       "      <td>0.001321</td>\n",
       "      <td>0.001321</td>\n",
       "      <td>113.92</td>\n",
       "      <td>0</td>\n",
       "    </tr>\n",
       "  </tbody>\n",
       "</table>\n",
       "<p>5 rows × 32 columns</p>\n",
       "</div>"
      ],
      "text/plain": [
       "     Time        V1         V2         V3         V4         V5        V6  \\\n",
       "0   18088       NaN   3.854150 -12.466766   9.648311  -2.726961 -4.445610   \n",
       "1  101051       NaN  -1.093377  -0.059768   1.064785  11.095089 -5.430971   \n",
       "2  132688       NaN   1.861373  -4.310353   2.448080   4.574094 -2.979912   \n",
       "3   95559       NaN  11.614801 -19.739386  10.463866 -12.599146 -1.202393   \n",
       "4   58642 -0.451383   2.225147  -4.953050   4.342228  -3.656190 -0.020121   \n",
       "\n",
       "          V7        V8        V9  ...       V22        V23       V24  \\\n",
       "0 -21.922811  0.320792 -4.433162  ... -1.504119 -19.254328  0.544867   \n",
       "1  -9.378025 -0.446456  1.992110  ... -1.259697 -15.981649 -0.883670   \n",
       "2  -2.792379 -2.719867 -0.276704  ... -0.348904  -3.979948 -0.828156   \n",
       "3 -23.380508 -5.781133 -7.811022  ...  1.140910   1.392953  0.348997   \n",
       "4  -5.407554 -0.748436 -1.362198  ...  0.495889   1.154128 -0.016186   \n",
       "\n",
       "        V25       V26       V27       V28     V28.1   Amount  Normal  \n",
       "0 -4.781606 -0.007772  3.052358 -0.775036 -0.775036  1218.89       0  \n",
       "1 -3.536716 -0.592965  0.675525  0.424849  0.424849     0.92       0  \n",
       "2 -2.419446 -0.767070  0.387039  0.319402  0.319402     1.00       0  \n",
       "3 -2.167510 -0.798754 -2.942775 -0.462680 -0.462680     1.63       0  \n",
       "4 -2.079928 -0.554377  0.455179  0.001321  0.001321   113.92       0  \n",
       "\n",
       "[5 rows x 32 columns]"
      ]
     },
     "execution_count": 621,
     "metadata": {},
     "output_type": "execute_result"
    }
   ],
   "source": [
    "#Import the data in dataframe\n",
    "df = pd.read_csv(\"creditcard dataset small.csv\")\n",
    "df.head()"
   ]
  },
  {
   "cell_type": "code",
   "execution_count": null,
   "metadata": {},
   "outputs": [],
   "source": []
  },
  {
   "cell_type": "markdown",
   "metadata": {},
   "source": [
    "## Data Pre-processing - Feature Engineering"
   ]
  },
  {
   "cell_type": "markdown",
   "metadata": {},
   "source": [
    "Here I explore what the target variable 'Normal' consists of. It is clear that the dataset is imbalanced. About 95% of the data concern 'healthy' transactions whereas about 5% of the data concern 'fraudulent' transactions. \n",
    "For this dataset is important to perform stratified sampling in my train-test split to ensure the target variable included in the splits is representative of the complete dataset."
   ]
  },
  {
   "cell_type": "code",
   "execution_count": 622,
   "metadata": {},
   "outputs": [
    {
     "data": {
      "text/plain": [
       "1    9505\n",
       "0     492\n",
       "Name: Normal, dtype: int64"
      ]
     },
     "execution_count": 622,
     "metadata": {},
     "output_type": "execute_result"
    }
   ],
   "source": [
    "df.Normal.value_counts()"
   ]
  },
  {
   "cell_type": "markdown",
   "metadata": {},
   "source": [
    "The target label is named 'Normal' and this translates to 1 for healthy transactions and 0 for fraudulent transactioins. In classification problems is more useful to turn this target variables into 1 for the least popular class as this is the desired target to be detected. Therefore I will reverese the labelling of this dataset into 1 for fraudulent transaction and 0 for 'healthy' transactions.\n",
    "This will help to get meaningful results from the evaluation metrics as well such as False Positive or False Negative counts."
   ]
  },
  {
   "cell_type": "code",
   "execution_count": 623,
   "metadata": {},
   "outputs": [],
   "source": [
    "#invert the target variable\n",
    "Fraud = np.logical_xor(df.Normal,1).astype(int)\n",
    "#create new column in dataframe with inverted target variable\n",
    "df['Fraud'] = Fraud\n",
    "#drop the old target variable column\n",
    "df = df.drop('Normal', axis=1)"
   ]
  },
  {
   "cell_type": "code",
   "execution_count": 624,
   "metadata": {},
   "outputs": [
    {
     "data": {
      "text/html": [
       "<div>\n",
       "<style scoped>\n",
       "    .dataframe tbody tr th:only-of-type {\n",
       "        vertical-align: middle;\n",
       "    }\n",
       "\n",
       "    .dataframe tbody tr th {\n",
       "        vertical-align: top;\n",
       "    }\n",
       "\n",
       "    .dataframe thead th {\n",
       "        text-align: right;\n",
       "    }\n",
       "</style>\n",
       "<table border=\"1\" class=\"dataframe\">\n",
       "  <thead>\n",
       "    <tr style=\"text-align: right;\">\n",
       "      <th></th>\n",
       "      <th>Time</th>\n",
       "      <th>V1</th>\n",
       "      <th>V2</th>\n",
       "      <th>V3</th>\n",
       "      <th>V4</th>\n",
       "      <th>V5</th>\n",
       "      <th>V6</th>\n",
       "      <th>V7</th>\n",
       "      <th>V8</th>\n",
       "      <th>V9</th>\n",
       "      <th>...</th>\n",
       "      <th>V22</th>\n",
       "      <th>V23</th>\n",
       "      <th>V24</th>\n",
       "      <th>V25</th>\n",
       "      <th>V26</th>\n",
       "      <th>V27</th>\n",
       "      <th>V28</th>\n",
       "      <th>V28.1</th>\n",
       "      <th>Amount</th>\n",
       "      <th>Fraud</th>\n",
       "    </tr>\n",
       "  </thead>\n",
       "  <tbody>\n",
       "    <tr>\n",
       "      <th>0</th>\n",
       "      <td>18088</td>\n",
       "      <td>NaN</td>\n",
       "      <td>3.854150</td>\n",
       "      <td>-12.466766</td>\n",
       "      <td>9.648311</td>\n",
       "      <td>-2.726961</td>\n",
       "      <td>-4.445610</td>\n",
       "      <td>-21.922811</td>\n",
       "      <td>0.320792</td>\n",
       "      <td>-4.433162</td>\n",
       "      <td>...</td>\n",
       "      <td>-1.504119</td>\n",
       "      <td>-19.254328</td>\n",
       "      <td>0.544867</td>\n",
       "      <td>-4.781606</td>\n",
       "      <td>-0.007772</td>\n",
       "      <td>3.052358</td>\n",
       "      <td>-0.775036</td>\n",
       "      <td>-0.775036</td>\n",
       "      <td>1218.89</td>\n",
       "      <td>1</td>\n",
       "    </tr>\n",
       "    <tr>\n",
       "      <th>1</th>\n",
       "      <td>101051</td>\n",
       "      <td>NaN</td>\n",
       "      <td>-1.093377</td>\n",
       "      <td>-0.059768</td>\n",
       "      <td>1.064785</td>\n",
       "      <td>11.095089</td>\n",
       "      <td>-5.430971</td>\n",
       "      <td>-9.378025</td>\n",
       "      <td>-0.446456</td>\n",
       "      <td>1.992110</td>\n",
       "      <td>...</td>\n",
       "      <td>-1.259697</td>\n",
       "      <td>-15.981649</td>\n",
       "      <td>-0.883670</td>\n",
       "      <td>-3.536716</td>\n",
       "      <td>-0.592965</td>\n",
       "      <td>0.675525</td>\n",
       "      <td>0.424849</td>\n",
       "      <td>0.424849</td>\n",
       "      <td>0.92</td>\n",
       "      <td>1</td>\n",
       "    </tr>\n",
       "    <tr>\n",
       "      <th>2</th>\n",
       "      <td>132688</td>\n",
       "      <td>NaN</td>\n",
       "      <td>1.861373</td>\n",
       "      <td>-4.310353</td>\n",
       "      <td>2.448080</td>\n",
       "      <td>4.574094</td>\n",
       "      <td>-2.979912</td>\n",
       "      <td>-2.792379</td>\n",
       "      <td>-2.719867</td>\n",
       "      <td>-0.276704</td>\n",
       "      <td>...</td>\n",
       "      <td>-0.348904</td>\n",
       "      <td>-3.979948</td>\n",
       "      <td>-0.828156</td>\n",
       "      <td>-2.419446</td>\n",
       "      <td>-0.767070</td>\n",
       "      <td>0.387039</td>\n",
       "      <td>0.319402</td>\n",
       "      <td>0.319402</td>\n",
       "      <td>1.00</td>\n",
       "      <td>1</td>\n",
       "    </tr>\n",
       "    <tr>\n",
       "      <th>3</th>\n",
       "      <td>95559</td>\n",
       "      <td>NaN</td>\n",
       "      <td>11.614801</td>\n",
       "      <td>-19.739386</td>\n",
       "      <td>10.463866</td>\n",
       "      <td>-12.599146</td>\n",
       "      <td>-1.202393</td>\n",
       "      <td>-23.380508</td>\n",
       "      <td>-5.781133</td>\n",
       "      <td>-7.811022</td>\n",
       "      <td>...</td>\n",
       "      <td>1.140910</td>\n",
       "      <td>1.392953</td>\n",
       "      <td>0.348997</td>\n",
       "      <td>-2.167510</td>\n",
       "      <td>-0.798754</td>\n",
       "      <td>-2.942775</td>\n",
       "      <td>-0.462680</td>\n",
       "      <td>-0.462680</td>\n",
       "      <td>1.63</td>\n",
       "      <td>1</td>\n",
       "    </tr>\n",
       "    <tr>\n",
       "      <th>4</th>\n",
       "      <td>58642</td>\n",
       "      <td>-0.451383</td>\n",
       "      <td>2.225147</td>\n",
       "      <td>-4.953050</td>\n",
       "      <td>4.342228</td>\n",
       "      <td>-3.656190</td>\n",
       "      <td>-0.020121</td>\n",
       "      <td>-5.407554</td>\n",
       "      <td>-0.748436</td>\n",
       "      <td>-1.362198</td>\n",
       "      <td>...</td>\n",
       "      <td>0.495889</td>\n",
       "      <td>1.154128</td>\n",
       "      <td>-0.016186</td>\n",
       "      <td>-2.079928</td>\n",
       "      <td>-0.554377</td>\n",
       "      <td>0.455179</td>\n",
       "      <td>0.001321</td>\n",
       "      <td>0.001321</td>\n",
       "      <td>113.92</td>\n",
       "      <td>1</td>\n",
       "    </tr>\n",
       "  </tbody>\n",
       "</table>\n",
       "<p>5 rows × 32 columns</p>\n",
       "</div>"
      ],
      "text/plain": [
       "     Time        V1         V2         V3         V4         V5        V6  \\\n",
       "0   18088       NaN   3.854150 -12.466766   9.648311  -2.726961 -4.445610   \n",
       "1  101051       NaN  -1.093377  -0.059768   1.064785  11.095089 -5.430971   \n",
       "2  132688       NaN   1.861373  -4.310353   2.448080   4.574094 -2.979912   \n",
       "3   95559       NaN  11.614801 -19.739386  10.463866 -12.599146 -1.202393   \n",
       "4   58642 -0.451383   2.225147  -4.953050   4.342228  -3.656190 -0.020121   \n",
       "\n",
       "          V7        V8        V9  ...       V22        V23       V24  \\\n",
       "0 -21.922811  0.320792 -4.433162  ... -1.504119 -19.254328  0.544867   \n",
       "1  -9.378025 -0.446456  1.992110  ... -1.259697 -15.981649 -0.883670   \n",
       "2  -2.792379 -2.719867 -0.276704  ... -0.348904  -3.979948 -0.828156   \n",
       "3 -23.380508 -5.781133 -7.811022  ...  1.140910   1.392953  0.348997   \n",
       "4  -5.407554 -0.748436 -1.362198  ...  0.495889   1.154128 -0.016186   \n",
       "\n",
       "        V25       V26       V27       V28     V28.1   Amount  Fraud  \n",
       "0 -4.781606 -0.007772  3.052358 -0.775036 -0.775036  1218.89      1  \n",
       "1 -3.536716 -0.592965  0.675525  0.424849  0.424849     0.92      1  \n",
       "2 -2.419446 -0.767070  0.387039  0.319402  0.319402     1.00      1  \n",
       "3 -2.167510 -0.798754 -2.942775 -0.462680 -0.462680     1.63      1  \n",
       "4 -2.079928 -0.554377  0.455179  0.001321  0.001321   113.92      1  \n",
       "\n",
       "[5 rows x 32 columns]"
      ]
     },
     "execution_count": 624,
     "metadata": {},
     "output_type": "execute_result"
    }
   ],
   "source": [
    "df.head()"
   ]
  },
  {
   "cell_type": "code",
   "execution_count": null,
   "metadata": {},
   "outputs": [],
   "source": []
  },
  {
   "cell_type": "markdown",
   "metadata": {},
   "source": [
    "To be able to understamd which of the features are useful for the label prediction I will use the pearson corellattion coefficient method for all fetaures in relation to the target variable 'Fraud'.\n",
    "Also, the feature 'Time' will not be very  useful in this analysis and it will be excluded."
   ]
  },
  {
   "cell_type": "code",
   "execution_count": 625,
   "metadata": {},
   "outputs": [
    {
     "data": {
      "text/plain": [
       "V14       0.742423\n",
       "V12       0.697491\n",
       "V17       0.642797\n",
       "V10       0.628382\n",
       "V11       0.601566\n",
       "V16       0.553828\n",
       "V25       0.536203\n",
       "V3        0.527997\n",
       "V4        0.446486\n",
       "V7        0.429125\n",
       "V9        0.401273\n",
       "V18       0.400729\n",
       "V5        0.292865\n",
       "V1        0.259606\n",
       "V2        0.257632\n",
       "Time      0.199180\n",
       "V6        0.177960\n",
       "V19       0.098736\n",
       "V21       0.096277\n",
       "V8        0.072159\n",
       "V22       0.054245\n",
       "V26       0.047945\n",
       "V20       0.047870\n",
       "V13       0.036443\n",
       "V27       0.035557\n",
       "Amount    0.028657\n",
       "V24       0.026013\n",
       "V28       0.014150\n",
       "V28.1     0.014150\n",
       "V23       0.006097\n",
       "V15       0.000694\n",
       "dtype: float64"
      ]
     },
     "execution_count": 625,
     "metadata": {},
     "output_type": "execute_result"
    }
   ],
   "source": [
    "#atke the absolute value corellation coefficient\n",
    "cor = df.corr().abs()\n",
    "sort_cor = cor.unstack()['Fraud'].sort_values()[-2::-1]\n",
    "sort_cor"
   ]
  },
  {
   "cell_type": "markdown",
   "metadata": {},
   "source": [
    "As it is observed from the table above, most of the features have a corellation coefficient <0.3 with respect to the target variable 'Fraud'. For the classification model, I will select only the features with corellation coefficient >0.3 to eliminate the noisy attributes."
   ]
  },
  {
   "cell_type": "code",
   "execution_count": 626,
   "metadata": {},
   "outputs": [],
   "source": [
    "def get_attributes(df, p_th=0.5):\n",
    "    \"\"\"\n",
    "    Receives the dataframe and threshold for pearsons corellation coefficient.\n",
    "    Returns the attributes which are correlated to the 'Fraud' target value with corellation \n",
    "    coefficient higher than p_th.\n",
    "    \"\"\"\n",
    "\n",
    "    #filter relevant attributes\n",
    "    cor = df.corr().abs()\n",
    "    sort_cor = cor.unstack()['Fraud'].sort_values()[-2::-1]\n",
    "    classification_attributes = sort_cor.index[sort_cor>p_th]\n",
    "    return classification_attributes\n",
    "\n",
    "attributes = get_attributes(df, p_th=0.3)\n",
    "df2 = df[attributes]"
   ]
  },
  {
   "cell_type": "markdown",
   "metadata": {},
   "source": [
    "Next I will check how many of these attributes selected above are highly correlated between them. In this case I will need to remove highly corellated attributes as duplicated featutes introduce noise in the model. "
   ]
  },
  {
   "cell_type": "code",
   "execution_count": 627,
   "metadata": {},
   "outputs": [
    {
     "data": {
      "image/png": "[encoded data removed]",
      "text/plain": [
       "<Figure size 576x576 with 2 Axes>"
      ]
     },
     "metadata": {
      "needs_background": "light"
     },
     "output_type": "display_data"
    }
   ],
   "source": [
    "#get correlation table of attributes\n",
    "fig = plt.figure(figsize=(8,8))\n",
    "cor_array = np.asarray(df[attributes].corr().abs())\n",
    "plt.imshow(cor_array,cmap='hot',interpolation='nearest')\n",
    "plt.colorbar()\n",
    "plt.xticks(ticks=range(len(attributes)),labels=attributes)\n",
    "plt.yticks(ticks=range(len(attributes)),labels=attributes)\n",
    "plt.title(\"Corelation between attributes\")\n",
    "plt.show()"
   ]
  },
  {
   "cell_type": "markdown",
   "metadata": {},
   "source": [
    "In the upper right corner of the above heatmap it appears that some features are highly correlated. I will find these and further eliminate the features which are less correlated with the target value 'Fraud'."
   ]
  },
  {
   "cell_type": "code",
   "execution_count": 628,
   "metadata": {},
   "outputs": [
    {
     "data": {
      "text/plain": [
       "MultiIndex([('V14', 'V12'),\n",
       "            ('V12', 'V14'),\n",
       "            ('V12', 'V17'),\n",
       "            ('V17', 'V12')],\n",
       "           )"
      ]
     },
     "execution_count": 628,
     "metadata": {},
     "output_type": "execute_result"
    }
   ],
   "source": [
    "#find highly correlated features\n",
    "cor_table = df2.corr()\n",
    "cor_table[(cor_table>0.7) & (cor_table<1)].stack().index"
   ]
  },
  {
   "cell_type": "code",
   "execution_count": 629,
   "metadata": {},
   "outputs": [
    {
     "data": {
      "text/html": [
       "<div>\n",
       "<style scoped>\n",
       "    .dataframe tbody tr th:only-of-type {\n",
       "        vertical-align: middle;\n",
       "    }\n",
       "\n",
       "    .dataframe tbody tr th {\n",
       "        vertical-align: top;\n",
       "    }\n",
       "\n",
       "    .dataframe thead th {\n",
       "        text-align: right;\n",
       "    }\n",
       "</style>\n",
       "<table border=\"1\" class=\"dataframe\">\n",
       "  <thead>\n",
       "    <tr style=\"text-align: right;\">\n",
       "      <th></th>\n",
       "      <th>V12</th>\n",
       "      <th>V14</th>\n",
       "      <th>V17</th>\n",
       "      <th>Fraud</th>\n",
       "    </tr>\n",
       "  </thead>\n",
       "  <tbody>\n",
       "    <tr>\n",
       "      <th>V12</th>\n",
       "      <td>1.000000</td>\n",
       "      <td>0.716885</td>\n",
       "      <td>0.733692</td>\n",
       "      <td>0.697491</td>\n",
       "    </tr>\n",
       "    <tr>\n",
       "      <th>V14</th>\n",
       "      <td>0.716885</td>\n",
       "      <td>1.000000</td>\n",
       "      <td>0.671163</td>\n",
       "      <td>0.742423</td>\n",
       "    </tr>\n",
       "    <tr>\n",
       "      <th>V17</th>\n",
       "      <td>0.733692</td>\n",
       "      <td>0.671163</td>\n",
       "      <td>1.000000</td>\n",
       "      <td>0.642797</td>\n",
       "    </tr>\n",
       "    <tr>\n",
       "      <th>Fraud</th>\n",
       "      <td>0.697491</td>\n",
       "      <td>0.742423</td>\n",
       "      <td>0.642797</td>\n",
       "      <td>1.000000</td>\n",
       "    </tr>\n",
       "  </tbody>\n",
       "</table>\n",
       "</div>"
      ],
      "text/plain": [
       "            V12       V14       V17     Fraud\n",
       "V12    1.000000  0.716885  0.733692  0.697491\n",
       "V14    0.716885  1.000000  0.671163  0.742423\n",
       "V17    0.733692  0.671163  1.000000  0.642797\n",
       "Fraud  0.697491  0.742423  0.642797  1.000000"
      ]
     },
     "execution_count": 629,
     "metadata": {},
     "output_type": "execute_result"
    }
   ],
   "source": [
    "#check pairs of features (V14, V12) and (V12, V17) against 'Fraud' target\n",
    "highly_correlated_features = ['V12' , 'V14', 'V17', 'Fraud']\n",
    "df[highly_correlated_features].corr().abs()\n"
   ]
  },
  {
   "cell_type": "markdown",
   "metadata": {},
   "source": [
    "From the above table, the attribute V14 is the most important feature among all V12, V14 and V17. Therefore I will inlcude V14 in my dataset for modelling and drop the other two."
   ]
  },
  {
   "cell_type": "code",
   "execution_count": 630,
   "metadata": {},
   "outputs": [
    {
     "data": {
      "text/plain": [
       "Index(['V14', 'V10', 'V11', 'V16', 'V25', 'V3', 'V4', 'V7', 'V9', 'V18'], dtype='object')"
      ]
     },
     "execution_count": 630,
     "metadata": {},
     "output_type": "execute_result"
    }
   ],
   "source": [
    "attributes=attributes.delete([1,2])\n",
    "attributes"
   ]
  },
  {
   "cell_type": "markdown",
   "metadata": {},
   "source": [
    "Here I explore whether the dataset contains any missing values. As we see below, the attribute V1 contains missing values - NaN values. \n",
    "\n",
    "However, V1 correlation to the target value 'Fraud' does not meet the minimum threshold which I set as 0.3 therefore is not further selected for the analysis. If I want to include this attribute in my analysis in the future I will need to replace the Nan values with the mean or either drop these rows. Since these instances are only 4 out of total 9997, I would need to replace these NaN values with the mean. "
   ]
  },
  {
   "cell_type": "code",
   "execution_count": 631,
   "metadata": {},
   "outputs": [
    {
     "name": "stdout",
     "output_type": "stream",
     "text": [
      "<class 'pandas.core.frame.DataFrame'>\n",
      "RangeIndex: 9997 entries, 0 to 9996\n",
      "Data columns (total 32 columns):\n",
      " #   Column  Non-Null Count  Dtype  \n",
      "---  ------  --------------  -----  \n",
      " 0   Time    9997 non-null   int64  \n",
      " 1   V1      9993 non-null   float64\n",
      " 2   V2      9997 non-null   float64\n",
      " 3   V3      9997 non-null   float64\n",
      " 4   V4      9997 non-null   float64\n",
      " 5   V5      9997 non-null   float64\n",
      " 6   V6      9997 non-null   float64\n",
      " 7   V7      9997 non-null   float64\n",
      " 8   V8      9997 non-null   float64\n",
      " 9   V9      9997 non-null   float64\n",
      " 10  V10     9997 non-null   float64\n",
      " 11  V11     9997 non-null   float64\n",
      " 12  V12     9997 non-null   float64\n",
      " 13  V13     9997 non-null   float64\n",
      " 14  V14     9997 non-null   float64\n",
      " 15  V15     9997 non-null   float64\n",
      " 16  V16     9997 non-null   float64\n",
      " 17  V17     9997 non-null   float64\n",
      " 18  V18     9997 non-null   float64\n",
      " 19  V19     9997 non-null   float64\n",
      " 20  V20     9997 non-null   float64\n",
      " 21  V21     9997 non-null   float64\n",
      " 22  V22     9997 non-null   float64\n",
      " 23  V23     9997 non-null   float64\n",
      " 24  V24     9997 non-null   float64\n",
      " 25  V25     9997 non-null   float64\n",
      " 26  V26     9997 non-null   float64\n",
      " 27  V27     9997 non-null   float64\n",
      " 28  V28     9997 non-null   float64\n",
      " 29  V28.1   9997 non-null   float64\n",
      " 30  Amount  9997 non-null   float64\n",
      " 31  Fraud   9997 non-null   int32  \n",
      "dtypes: float64(30), int32(1), int64(1)\n",
      "memory usage: 2.4 MB\n"
     ]
    }
   ],
   "source": [
    "df.info()"
   ]
  },
  {
   "cell_type": "markdown",
   "metadata": {},
   "source": [
    "From the table below is obvious that the attributes are all very similar between them with similar means and standard deviation. Nevertheless, as I intend to use the classification kNN technique which is based on the Eucledian distance metric to estimate the nearest neighbours, the better approach to this is to standardise the features by removing the mean and scaling to unit variance.\n",
    "\n",
    "In their work Introduction to Data Mining,  Tan et al clarify that \"the goal of standardization or normalization is to make an entire set of valueshave a particular property\" (Tan et al,2019 p.90). "
   ]
  },
  {
   "cell_type": "code",
   "execution_count": 632,
   "metadata": {},
   "outputs": [
    {
     "data": {
      "text/html": [
       "<div>\n",
       "<style scoped>\n",
       "    .dataframe tbody tr th:only-of-type {\n",
       "        vertical-align: middle;\n",
       "    }\n",
       "\n",
       "    .dataframe tbody tr th {\n",
       "        vertical-align: top;\n",
       "    }\n",
       "\n",
       "    .dataframe thead th {\n",
       "        text-align: right;\n",
       "    }\n",
       "</style>\n",
       "<table border=\"1\" class=\"dataframe\">\n",
       "  <thead>\n",
       "    <tr style=\"text-align: right;\">\n",
       "      <th></th>\n",
       "      <th>V14</th>\n",
       "      <th>V12</th>\n",
       "      <th>V17</th>\n",
       "      <th>V10</th>\n",
       "      <th>V11</th>\n",
       "      <th>V16</th>\n",
       "      <th>V25</th>\n",
       "      <th>V3</th>\n",
       "      <th>V4</th>\n",
       "      <th>V7</th>\n",
       "      <th>V9</th>\n",
       "      <th>V18</th>\n",
       "    </tr>\n",
       "  </thead>\n",
       "  <tbody>\n",
       "    <tr>\n",
       "      <th>count</th>\n",
       "      <td>9997.000000</td>\n",
       "      <td>9997.000000</td>\n",
       "      <td>9997.000000</td>\n",
       "      <td>9997.000000</td>\n",
       "      <td>9997.000000</td>\n",
       "      <td>9997.000000</td>\n",
       "      <td>9997.000000</td>\n",
       "      <td>9997.000000</td>\n",
       "      <td>9997.000000</td>\n",
       "      <td>9997.000000</td>\n",
       "      <td>9997.000000</td>\n",
       "      <td>9997.000000</td>\n",
       "    </tr>\n",
       "    <tr>\n",
       "      <th>mean</th>\n",
       "      <td>-0.329504</td>\n",
       "      <td>-0.312208</td>\n",
       "      <td>-0.282324</td>\n",
       "      <td>-0.199111</td>\n",
       "      <td>0.049287</td>\n",
       "      <td>-0.313560</td>\n",
       "      <td>-1.295028</td>\n",
       "      <td>-0.578172</td>\n",
       "      <td>0.385147</td>\n",
       "      <td>-0.147936</td>\n",
       "      <td>-0.206448</td>\n",
       "      <td>-0.065295</td>\n",
       "    </tr>\n",
       "    <tr>\n",
       "      <th>std</th>\n",
       "      <td>2.035587</td>\n",
       "      <td>1.939997</td>\n",
       "      <td>2.259509</td>\n",
       "      <td>1.983392</td>\n",
       "      <td>1.418662</td>\n",
       "      <td>1.571963</td>\n",
       "      <td>0.567101</td>\n",
       "      <td>2.781635</td>\n",
       "      <td>2.118301</td>\n",
       "      <td>2.874139</td>\n",
       "      <td>1.346458</td>\n",
       "      <td>1.238329</td>\n",
       "    </tr>\n",
       "    <tr>\n",
       "      <th>min</th>\n",
       "      <td>-19.214325</td>\n",
       "      <td>-18.683715</td>\n",
       "      <td>-25.162799</td>\n",
       "      <td>-24.588262</td>\n",
       "      <td>-3.684586</td>\n",
       "      <td>-14.129855</td>\n",
       "      <td>-10.295397</td>\n",
       "      <td>-31.103685</td>\n",
       "      <td>-5.266509</td>\n",
       "      <td>-43.557242</td>\n",
       "      <td>-13.434066</td>\n",
       "      <td>-9.498746</td>\n",
       "    </tr>\n",
       "    <tr>\n",
       "      <th>25%</th>\n",
       "      <td>-0.647428</td>\n",
       "      <td>-0.544243</td>\n",
       "      <td>-0.560746</td>\n",
       "      <td>-0.688936</td>\n",
       "      <td>-0.861593</td>\n",
       "      <td>-0.846624</td>\n",
       "      <td>-1.479027</td>\n",
       "      <td>-1.183218</td>\n",
       "      <td>-0.864526</td>\n",
       "      <td>-0.527063</td>\n",
       "      <td>-0.860413</td>\n",
       "      <td>-0.580695</td>\n",
       "    </tr>\n",
       "    <tr>\n",
       "      <th>50%</th>\n",
       "      <td>-0.019493</td>\n",
       "      <td>0.067554</td>\n",
       "      <td>-0.014330</td>\n",
       "      <td>-0.096856</td>\n",
       "      <td>-0.049577</td>\n",
       "      <td>-0.162684</td>\n",
       "      <td>-1.207582</td>\n",
       "      <td>0.043928</td>\n",
       "      <td>-0.136180</td>\n",
       "      <td>0.182848</td>\n",
       "      <td>-0.126675</td>\n",
       "      <td>0.052701</td>\n",
       "    </tr>\n",
       "    <tr>\n",
       "      <th>75%</th>\n",
       "      <td>0.520247</td>\n",
       "      <td>0.577834</td>\n",
       "      <td>0.482012</td>\n",
       "      <td>0.653108</td>\n",
       "      <td>0.686376</td>\n",
       "      <td>0.510768</td>\n",
       "      <td>-1.057593</td>\n",
       "      <td>0.856952</td>\n",
       "      <td>1.130185</td>\n",
       "      <td>0.817359</td>\n",
       "      <td>0.553565</td>\n",
       "      <td>0.644404</td>\n",
       "    </tr>\n",
       "    <tr>\n",
       "      <th>max</th>\n",
       "      <td>7.754599</td>\n",
       "      <td>4.472921</td>\n",
       "      <td>6.739384</td>\n",
       "      <td>23.745136</td>\n",
       "      <td>12.018913</td>\n",
       "      <td>7.059132</td>\n",
       "      <td>2.208209</td>\n",
       "      <td>9.382558</td>\n",
       "      <td>16.875344</td>\n",
       "      <td>31.527244</td>\n",
       "      <td>15.594995</td>\n",
       "      <td>5.041069</td>\n",
       "    </tr>\n",
       "  </tbody>\n",
       "</table>\n",
       "</div>"
      ],
      "text/plain": [
       "               V14          V12          V17          V10          V11  \\\n",
       "count  9997.000000  9997.000000  9997.000000  9997.000000  9997.000000   \n",
       "mean     -0.329504    -0.312208    -0.282324    -0.199111     0.049287   \n",
       "std       2.035587     1.939997     2.259509     1.983392     1.418662   \n",
       "min     -19.214325   -18.683715   -25.162799   -24.588262    -3.684586   \n",
       "25%      -0.647428    -0.544243    -0.560746    -0.688936    -0.861593   \n",
       "50%      -0.019493     0.067554    -0.014330    -0.096856    -0.049577   \n",
       "75%       0.520247     0.577834     0.482012     0.653108     0.686376   \n",
       "max       7.754599     4.472921     6.739384    23.745136    12.018913   \n",
       "\n",
       "               V16          V25           V3           V4           V7  \\\n",
       "count  9997.000000  9997.000000  9997.000000  9997.000000  9997.000000   \n",
       "mean     -0.313560    -1.295028    -0.578172     0.385147    -0.147936   \n",
       "std       1.571963     0.567101     2.781635     2.118301     2.874139   \n",
       "min     -14.129855   -10.295397   -31.103685    -5.266509   -43.557242   \n",
       "25%      -0.846624    -1.479027    -1.183218    -0.864526    -0.527063   \n",
       "50%      -0.162684    -1.207582     0.043928    -0.136180     0.182848   \n",
       "75%       0.510768    -1.057593     0.856952     1.130185     0.817359   \n",
       "max       7.059132     2.208209     9.382558    16.875344    31.527244   \n",
       "\n",
       "                V9          V18  \n",
       "count  9997.000000  9997.000000  \n",
       "mean     -0.206448    -0.065295  \n",
       "std       1.346458     1.238329  \n",
       "min     -13.434066    -9.498746  \n",
       "25%      -0.860413    -0.580695  \n",
       "50%      -0.126675     0.052701  \n",
       "75%       0.553565     0.644404  \n",
       "max      15.594995     5.041069  "
      ]
     },
     "execution_count": 632,
     "metadata": {},
     "output_type": "execute_result"
    }
   ],
   "source": [
    "df2.describe()"
   ]
  },
  {
   "cell_type": "markdown",
   "metadata": {},
   "source": [
    "## Model 1 development "
   ]
  },
  {
   "cell_type": "markdown",
   "metadata": {},
   "source": [
    "Since the problem at hand is a classification problem, I intend to use KNN machine learning algorith as my first technique. The reasons are:\n",
    "* KNN is a good machine learning model that works well with numerical data\n",
    "* This model performs good on relatively small datasets which make it good selection for this problem\n",
    "* KNN is easy to interpret and is based on the simple Eucledian distance. The features have been standardise and ready to apply KNN algorithm. \n",
    "* KNN performs well with small numbers of features (attributes) therefore is a good candidate model for this problem, especially after I have removed the non relevant features.\n",
    "* KNN can be an extremely fast algorithm. As Tan et al explain (2019) nearest neighbours algorithms can be extremely fast since they require no training on the data.   \n",
    "\n",
    "<br><br><br>"
   ]
  },
  {
   "cell_type": "markdown",
   "metadata": {},
   "source": [
    "### Schematic figure of the process "
   ]
  },
  {
   "attachments": {
    "7616e1e8-d003-4b02-ad54-2464549795c8.png": {
     "image/png": "[encoded data removed]"
    }
   },
   "cell_type": "markdown",
   "metadata": {},
   "source": [
    "![image.png](attachment:7616e1e8-d003-4b02-ad54-2464549795c8.png)"
   ]
  },
  {
   "cell_type": "markdown",
   "metadata": {},
   "source": [
    "First I will standardise my dataset as explained above."
   ]
  },
  {
   "cell_type": "code",
   "execution_count": 633,
   "metadata": {},
   "outputs": [
    {
     "data": {
      "text/html": [
       "<div>\n",
       "<style scoped>\n",
       "    .dataframe tbody tr th:only-of-type {\n",
       "        vertical-align: middle;\n",
       "    }\n",
       "\n",
       "    .dataframe tbody tr th {\n",
       "        vertical-align: top;\n",
       "    }\n",
       "\n",
       "    .dataframe thead th {\n",
       "        text-align: right;\n",
       "    }\n",
       "</style>\n",
       "<table border=\"1\" class=\"dataframe\">\n",
       "  <thead>\n",
       "    <tr style=\"text-align: right;\">\n",
       "      <th></th>\n",
       "      <th>V14</th>\n",
       "      <th>V12</th>\n",
       "      <th>V17</th>\n",
       "      <th>V10</th>\n",
       "      <th>V11</th>\n",
       "      <th>V16</th>\n",
       "      <th>V25</th>\n",
       "      <th>V3</th>\n",
       "      <th>V4</th>\n",
       "      <th>V7</th>\n",
       "      <th>V9</th>\n",
       "      <th>V18</th>\n",
       "    </tr>\n",
       "  </thead>\n",
       "  <tbody>\n",
       "    <tr>\n",
       "      <th>0</th>\n",
       "      <td>-4.819831</td>\n",
       "      <td>-6.594528</td>\n",
       "      <td>-7.623404</td>\n",
       "      <td>-5.547487</td>\n",
       "      <td>6.541360</td>\n",
       "      <td>-6.225083</td>\n",
       "      <td>-6.148380</td>\n",
       "      <td>-4.274173</td>\n",
       "      <td>4.373140</td>\n",
       "      <td>-7.576516</td>\n",
       "      <td>-3.139293</td>\n",
       "      <td>-6.457342</td>\n",
       "    </tr>\n",
       "    <tr>\n",
       "      <th>1</th>\n",
       "      <td>1.853084</td>\n",
       "      <td>-0.597706</td>\n",
       "      <td>0.752652</td>\n",
       "      <td>1.000877</td>\n",
       "      <td>0.930005</td>\n",
       "      <td>-0.835030</td>\n",
       "      <td>-3.953089</td>\n",
       "      <td>0.186376</td>\n",
       "      <td>0.320857</td>\n",
       "      <td>-3.211588</td>\n",
       "      <td>1.632927</td>\n",
       "      <td>-1.092351</td>\n",
       "    </tr>\n",
       "    <tr>\n",
       "      <th>2</th>\n",
       "      <td>-2.722660</td>\n",
       "      <td>-0.049148</td>\n",
       "      <td>2.577321</td>\n",
       "      <td>-1.066730</td>\n",
       "      <td>1.532276</td>\n",
       "      <td>1.268180</td>\n",
       "      <td>-1.982847</td>\n",
       "      <td>-1.341789</td>\n",
       "      <td>0.973911</td>\n",
       "      <td>-0.920128</td>\n",
       "      <td>-0.052181</td>\n",
       "      <td>2.643156</td>\n",
       "    </tr>\n",
       "    <tr>\n",
       "      <th>3</th>\n",
       "      <td>-3.450424</td>\n",
       "      <td>-6.867884</td>\n",
       "      <td>-7.664230</td>\n",
       "      <td>-8.120047</td>\n",
       "      <td>3.894244</td>\n",
       "      <td>-5.353182</td>\n",
       "      <td>-1.538571</td>\n",
       "      <td>-6.888818</td>\n",
       "      <td>4.758164</td>\n",
       "      <td>-8.083718</td>\n",
       "      <td>-5.648120</td>\n",
       "      <td>-5.968553</td>\n",
       "    </tr>\n",
       "    <tr>\n",
       "      <th>4</th>\n",
       "      <td>-2.152309</td>\n",
       "      <td>-2.017639</td>\n",
       "      <td>-2.588994</td>\n",
       "      <td>-2.002484</td>\n",
       "      <td>2.617400</td>\n",
       "      <td>-2.815426</td>\n",
       "      <td>-1.384127</td>\n",
       "      <td>-1.572851</td>\n",
       "      <td>1.868138</td>\n",
       "      <td>-1.830071</td>\n",
       "      <td>-0.858406</td>\n",
       "      <td>-1.906354</td>\n",
       "    </tr>\n",
       "  </tbody>\n",
       "</table>\n",
       "</div>"
      ],
      "text/plain": [
       "        V14       V12       V17       V10       V11       V16       V25  \\\n",
       "0 -4.819831 -6.594528 -7.623404 -5.547487  6.541360 -6.225083 -6.148380   \n",
       "1  1.853084 -0.597706  0.752652  1.000877  0.930005 -0.835030 -3.953089   \n",
       "2 -2.722660 -0.049148  2.577321 -1.066730  1.532276  1.268180 -1.982847   \n",
       "3 -3.450424 -6.867884 -7.664230 -8.120047  3.894244 -5.353182 -1.538571   \n",
       "4 -2.152309 -2.017639 -2.588994 -2.002484  2.617400 -2.815426 -1.384127   \n",
       "\n",
       "         V3        V4        V7        V9       V18  \n",
       "0 -4.274173  4.373140 -7.576516 -3.139293 -6.457342  \n",
       "1  0.186376  0.320857 -3.211588  1.632927 -1.092351  \n",
       "2 -1.341789  0.973911 -0.920128 -0.052181  2.643156  \n",
       "3 -6.888818  4.758164 -8.083718 -5.648120 -5.968553  \n",
       "4 -1.572851  1.868138 -1.830071 -0.858406 -1.906354  "
      ]
     },
     "execution_count": 633,
     "metadata": {},
     "output_type": "execute_result"
    }
   ],
   "source": [
    "scaler = StandardScaler()\n",
    "df2_scaled  = scaler.fit_transform(df2)\n",
    "processed_data = pd.DataFrame(df2_scaled)\n",
    "processed_data.columns = df2.columns\n",
    "processed_data.head()"
   ]
  },
  {
   "cell_type": "markdown",
   "metadata": {},
   "source": [
    "The major hyperparameter to be controlled in KNN algorithm is the number K of the neighrest neighbours we want to achieve to make a valid conclusion on the label of the instance. \n",
    "A way to select the optimum K is by the elbow method (1). \n",
    "Another method to select the optimum value of K is by varying the K value and observe where the testing error starts to fork from the training error (1). Also by applying cross validation on the training set will help to identify the value of K that gives the best score. Specifically since the data is imbalanced, a better approach is to use stratified corss-validation.\n",
    "\n",
    "<p>\n",
    "\n",
    "References:\n",
    "\n",
    "(1) Altahhan, A. 2021. Clustering and Classification algorithms. Lecture notes distributed in OCOM5101M Data Science. 24 May, University of Leeds.\n",
    "\n"
   ]
  },
  {
   "cell_type": "markdown",
   "metadata": {},
   "source": [
    "### Optimising hyper parameters "
   ]
  },
  {
   "cell_type": "markdown",
   "metadata": {},
   "source": [
    "In this section I will perform GridSearch with stratified cross-validation to find out about the best hyperparameters (based on my selected ranges). This method will help me to prevent overfitting on the training data by training on a series of multiple splits, holding out a validation set for testing. "
   ]
  },
  {
   "cell_type": "code",
   "execution_count": 634,
   "metadata": {},
   "outputs": [
    {
     "data": {
      "text/plain": [
       "GridSearchCV(cv=StratifiedKFold(n_splits=10, random_state=42, shuffle=True),\n",
       "             estimator=KNeighborsClassifier(), n_jobs=-1,\n",
       "             param_grid={'n_neighbors': [1, 6, 11, 16, 21, 26, 31, 36, 41, 46]},\n",
       "             scoring='f1')"
      ]
     },
     "execution_count": 634,
     "metadata": {},
     "output_type": "execute_result"
    }
   ],
   "source": [
    "#set training dataset\n",
    "X = processed_data.values\n",
    "y = df.Fraud\n",
    "\n",
    "#perform stratified split on the data to preserve the class proportionality\n",
    "X_train, X_test, y_train, y_test = train_test_split(X, y, stratify=y, test_size=0.2)\n",
    "\n",
    "# create instance of KNN \n",
    "knn = KNeighborsClassifier()\n",
    "\n",
    "# perform stratified cross validation with sklearn\n",
    "skfold = StratifiedKFold(n_splits=10, shuffle=True, random_state=42)\n",
    "\n",
    "#perform gridsearch to identify the optimum \n",
    "model_parameters = {'n_neighbors':list(range(1,51,5))}\n",
    "test_model_KNN = GridSearchCV(estimator=knn, param_grid=model_parameters, scoring = 'f1', cv=skfold, n_jobs=-1) #use f1 score as a metric for imbalanced dataset\n",
    "test_model_KNN.fit(X_train,y_train)"
   ]
  },
  {
   "cell_type": "markdown",
   "metadata": {},
   "source": [
    "Let's look at the best estimator and the best score that has achieved."
   ]
  },
  {
   "cell_type": "code",
   "execution_count": 635,
   "metadata": {},
   "outputs": [
    {
     "name": "stdout",
     "output_type": "stream",
     "text": [
      "KNeighborsClassifier(n_neighbors=1)\n",
      "0.9780462870462869\n"
     ]
    }
   ],
   "source": [
    "print(test_model_KNN.best_estimator_)\n",
    "print(test_model_KNN.best_score_)"
   ]
  },
  {
   "cell_type": "markdown",
   "metadata": {},
   "source": [
    "## Performance metrics for training"
   ]
  },
  {
   "cell_type": "markdown",
   "metadata": {},
   "source": [
    "Using the above best estimator I will train this using the training dataset to retrieve the performance metrics for training."
   ]
  },
  {
   "cell_type": "code",
   "execution_count": 636,
   "metadata": {},
   "outputs": [
    {
     "name": "stdout",
     "output_type": "stream",
     "text": [
      "              precision    recall  f1-score   support\n",
      "\n",
      "           0       1.00      1.00      1.00      7603\n",
      "           1       1.00      1.00      1.00       394\n",
      "\n",
      "    accuracy                           1.00      7997\n",
      "   macro avg       1.00      1.00      1.00      7997\n",
      "weighted avg       1.00      1.00      1.00      7997\n",
      "\n",
      "\n",
      "The F1 score for the KNN classifier on training dataset is: 1.0\n",
      "\n"
     ]
    }
   ],
   "source": [
    "#use best estimator for predicting the labels on the training set\n",
    "y_pred_train = test_model_KNN.best_estimator_.predict(X_train)\n",
    "#print classification report\n",
    "print(classification_report(y_train, y_pred_train))\n",
    "print(f'\\nThe F1 score for the KNN classifier on training dataset is: {f1_score(y_train, y_pred_train):.3}\\n')"
   ]
  },
  {
   "cell_type": "markdown",
   "metadata": {},
   "source": [
    "It is clear that the best estimator KNN model trained on the training dataset performs exceptionally well with a macro F1 score=1. \n",
    "\n",
    "The weighted F1 score favours the label in the dataset which appears more frequently by setting the weight of this equal to the proportion of the label with respect to the data size. In this application, since the fraudulent instances account only for 5% of the dataset, using the weighted F1 score will tend to give higher score since the non-fraudulent instances account for apprx. 95%. Therefore the model will predict the most frequent label most of the time (depending on model selection and parameters) and it will not give a good indication of the performance on the unbalanced dataset.\n",
    "<p>\n",
    "From the graph below of the scoring against the K values it can be seen that the highest performance is achieved by the model when the value K is equal to 1.  "
   ]
  },
  {
   "cell_type": "code",
   "execution_count": 637,
   "metadata": {},
   "outputs": [
    {
     "data": {
      "image/png": "[encoded data removed]",
      "text/plain": [
       "<Figure size 576x432 with 1 Axes>"
      ]
     },
     "metadata": {
      "needs_background": "light"
     },
     "output_type": "display_data"
    }
   ],
   "source": [
    "#plot the scoring graph \n",
    "scores = test_model_KNN.cv_results_['mean_test_score']\n",
    "k_values = [1, 6, 11, 16, 21, 26, 31, 36, 41, 46]\n",
    "fig = plt.figure(figsize=(8,6))\n",
    "plt.plot(k_values, scores)\n",
    "plt.xticks(k_values, labels=k_values)\n",
    "plt.ylabel('F1 score', fontdict={'fontsize':13})\n",
    "plt.xlabel('K-Nearest Neighbour', fontdict={'fontsize':13})\n",
    "plt.title('K-Nearest Neighbours scores', fontdict={'fontsize':15})\n",
    "plt.grid()"
   ]
  },
  {
   "cell_type": "markdown",
   "metadata": {},
   "source": [
    "## Model 2 Devlopment"
   ]
  },
  {
   "cell_type": "markdown",
   "metadata": {},
   "source": [
    "Since the problem at hand is a classification problem, I intend to use RandomForest machine learning algorith as my second technique. The reasons for using RandomForest model are:\n",
    "* As explained in (1), ensemble machine learning models take advantage of their agregated decisions which are based on samping methods of the input dataset by diversifying the properties of each sub-model within the ensemble and exposing various dynamics for each data split. This will enable to take a more sophisticated approach towards classification with the method of  'model voting'.\n",
    "* Due to the random sampling of the data attributes for each sub-model of the ensemble, this method promotes diverisity among the predictors (Tan et al,2019). \n",
    "* Random Forest classifier, due to its underlying functionality has low bias and reduced variance. As a result this makes the Random Forest classification model robust to overfitting.\n",
    "* With Random Forest classifier, standardisation or normalisation of data is not required since the model operates on a rule-based approach. This makes the model robust to datasets which exhibit high variety of the scales among all attributes.  \n",
    "\n",
    "\n",
    "References:\n",
    "\n",
    "(1) Altahhan, A. 2021. Clustering and Classification algorithms. Lecture notes distributed in OCOM5101M Data Science. 24 May, University of Leeds.\n",
    "<br><br><br>"
   ]
  },
  {
   "cell_type": "markdown",
   "metadata": {},
   "source": [
    "### Schematic figure of the process "
   ]
  },
  {
   "attachments": {
    "184d4865-39dc-4b36-8eb5-c59745425f81.png": {
     "image/png": "[encoded data removed]"
    }
   },
   "cell_type": "markdown",
   "metadata": {},
   "source": [
    "![image.png](attachment:184d4865-39dc-4b36-8eb5-c59745425f81.png)"
   ]
  },
  {
   "cell_type": "markdown",
   "metadata": {},
   "source": [
    "The ensemble model Random Forest, is a robust model when it comes to overfitting. It enables to adjust its parameters so that the trees do not overgrow and prevent overfitting. I have selected the following hyperparameters to tune and compare with the method of GridSearch:\n",
    "* _Number of estimators_: by introducing a variety of estimators in the ensemble model, it promotes the decorrelation of the sub-models to enhance the aggregate decision from each participant tree. Setting parameters such as bootstrap to 'True', will further infuse diversity among the trees and help to improve the results.\n",
    "* _Maximum depth_: If a tree is allowed to fully grow, then it will make splits at each node until the impurity reaches 0. However, this is not a good approach because if the model is used on unseen data, the same splits performed while training the model may not follow exactly the same route with the new data. Therefore the model will not be able to generalise well on the new data.\n",
    "* _Maximum leaf nodes_: Limiting the number of leaf nodes is a pre-pruning technique to prevent the tree from fully growing which helps to avoid overfitting of the model. \n",
    "\n",
    "References:\n",
    "\n",
    "Scikit-learn developers 2020. Random Forest classifier website. [Online]. [Accessed 25 June 2021]. Available from: https://scikit-learn.org \n",
    "\n"
   ]
  },
  {
   "cell_type": "markdown",
   "metadata": {},
   "source": [
    "### Optimising hyper parameters\n"
   ]
  },
  {
   "cell_type": "markdown",
   "metadata": {},
   "source": [
    "In this section I will perform GridSearch with stratified cross-validation to find out about the best hyperparameters (based on my selected ranges). This method will help me to prevent overfitting on the training data by training on a series of multiple splits, holding out a validation set for testing. I make use of the stratifired split X_train and y_train sets which have been computed in the previous technique. "
   ]
  },
  {
   "cell_type": "code",
   "execution_count": 638,
   "metadata": {},
   "outputs": [
    {
     "data": {
      "text/plain": [
       "GridSearchCV(cv=StratifiedKFold(n_splits=10, random_state=42, shuffle=True),\n",
       "             estimator=RandomForestClassifier(), n_jobs=-1,\n",
       "             param_grid={'max_depth': [2, 4, 6, 8, 10, 12, 14, 16, 18],\n",
       "                         'max_leaf_nodes': [2, 4, 6, 8],\n",
       "                         'n_estimators': [1, 21, 41, 61, 81]},\n",
       "             scoring='f1')"
      ]
     },
     "execution_count": 638,
     "metadata": {},
     "output_type": "execute_result"
    }
   ],
   "source": [
    "# create instance of RandomForest \n",
    "RF = RandomForestClassifier()\n",
    "\n",
    "# perform stratified cross validation with sklearn\n",
    "skfold = StratifiedKFold(n_splits=10, shuffle=True, random_state=42)\n",
    "\n",
    "#perform gridsearch to identify the optimum \n",
    "model_parameters = {'n_estimators':list(range(1,100,20)), \n",
    "                    'max_depth': list(range(2,20,2)),\n",
    "                    'max_leaf_nodes': list(range(2,10,2)) }\n",
    "test_model_RF = GridSearchCV(estimator=RF, param_grid=model_parameters, scoring = 'f1', cv=skfold, n_jobs=-1) #use f1 score as a metric for imbalanced dataset\n",
    "test_model_RF.fit(X_train,y_train)"
   ]
  },
  {
   "cell_type": "markdown",
   "metadata": {},
   "source": [
    "Let's view the best hyperpatameters and best scores that the estimator has computed."
   ]
  },
  {
   "cell_type": "code",
   "execution_count": 639,
   "metadata": {},
   "outputs": [
    {
     "name": "stdout",
     "output_type": "stream",
     "text": [
      "{'max_depth': 8, 'max_leaf_nodes': 6, 'n_estimators': 41}\n",
      "0.9961367746177873\n"
     ]
    }
   ],
   "source": [
    "print(test_model_RF.best_params_)\n",
    "print(test_model_RF.best_score_)"
   ]
  },
  {
   "cell_type": "code",
   "execution_count": 640,
   "metadata": {},
   "outputs": [
    {
     "data": {
      "text/html": [
       "<div>\n",
       "<style scoped>\n",
       "    .dataframe tbody tr th:only-of-type {\n",
       "        vertical-align: middle;\n",
       "    }\n",
       "\n",
       "    .dataframe tbody tr th {\n",
       "        vertical-align: top;\n",
       "    }\n",
       "\n",
       "    .dataframe thead th {\n",
       "        text-align: right;\n",
       "    }\n",
       "</style>\n",
       "<table border=\"1\" class=\"dataframe\">\n",
       "  <thead>\n",
       "    <tr style=\"text-align: right;\">\n",
       "      <th></th>\n",
       "      <th>max_depth</th>\n",
       "      <th>max_leaf_nodes</th>\n",
       "      <th>n_estimators</th>\n",
       "      <th>F1_score</th>\n",
       "      <th>Combined_parameters</th>\n",
       "    </tr>\n",
       "  </thead>\n",
       "  <tbody>\n",
       "    <tr>\n",
       "      <th>0</th>\n",
       "      <td>2</td>\n",
       "      <td>2</td>\n",
       "      <td>1</td>\n",
       "      <td>0.825649</td>\n",
       "      <td>2, 2, 1</td>\n",
       "    </tr>\n",
       "    <tr>\n",
       "      <th>1</th>\n",
       "      <td>2</td>\n",
       "      <td>2</td>\n",
       "      <td>21</td>\n",
       "      <td>0.889475</td>\n",
       "      <td>2, 2, 21</td>\n",
       "    </tr>\n",
       "    <tr>\n",
       "      <th>2</th>\n",
       "      <td>2</td>\n",
       "      <td>2</td>\n",
       "      <td>41</td>\n",
       "      <td>0.886481</td>\n",
       "      <td>2, 2, 41</td>\n",
       "    </tr>\n",
       "    <tr>\n",
       "      <th>3</th>\n",
       "      <td>2</td>\n",
       "      <td>2</td>\n",
       "      <td>61</td>\n",
       "      <td>0.882744</td>\n",
       "      <td>2, 2, 61</td>\n",
       "    </tr>\n",
       "    <tr>\n",
       "      <th>4</th>\n",
       "      <td>2</td>\n",
       "      <td>2</td>\n",
       "      <td>81</td>\n",
       "      <td>0.878815</td>\n",
       "      <td>2, 2, 81</td>\n",
       "    </tr>\n",
       "  </tbody>\n",
       "</table>\n",
       "</div>"
      ],
      "text/plain": [
       "   max_depth  max_leaf_nodes  n_estimators  F1_score Combined_parameters\n",
       "0          2               2             1  0.825649             2, 2, 1\n",
       "1          2               2            21  0.889475            2, 2, 21\n",
       "2          2               2            41  0.886481            2, 2, 41\n",
       "3          2               2            61  0.882744            2, 2, 61\n",
       "4          2               2            81  0.878815            2, 2, 81"
      ]
     },
     "execution_count": 640,
     "metadata": {},
     "output_type": "execute_result"
    }
   ],
   "source": [
    "#create a dataframe from the model hyperparameters and scores\n",
    "RF_grid_results = pd.DataFrame(test_model_RF.cv_results_['params'])\n",
    "RF_grid_results['F1_score'] = test_model_RF.cv_results_['mean_test_score']\n",
    "RF_grid_results['Combined_parameters'] = RF_grid_results.apply(\n",
    "                                        lambda x:'%s, %s, %s' % (int(x['max_depth']),int(x['max_leaf_nodes']),int(x['n_estimators']))\n",
    "                                                    ,axis=1)\n",
    "RF_grid_results.head()"
   ]
  },
  {
   "cell_type": "markdown",
   "metadata": {},
   "source": [
    "### Performance metrics for training"
   ]
  },
  {
   "cell_type": "markdown",
   "metadata": {},
   "source": [
    "Using the above best estimator I will train this using the training dataset to retrieve the performance metrics for training."
   ]
  },
  {
   "cell_type": "code",
   "execution_count": 641,
   "metadata": {},
   "outputs": [
    {
     "name": "stdout",
     "output_type": "stream",
     "text": [
      "              precision    recall  f1-score   support\n",
      "\n",
      "           0       1.00      1.00      1.00      7603\n",
      "           1       1.00      0.99      1.00       394\n",
      "\n",
      "    accuracy                           1.00      7997\n",
      "   macro avg       1.00      1.00      1.00      7997\n",
      "weighted avg       1.00      1.00      1.00      7997\n",
      "\n",
      "\n",
      "The F1 score for the Random Forest classifier on training dataset is: 0.996\n",
      "\n"
     ]
    }
   ],
   "source": [
    "#use best estimator for predicting the labels on the training set\n",
    "y_pred_train = test_model_RF.best_estimator_.predict(X_train)\n",
    "#print classification report\n",
    "print(classification_report(y_train, y_pred_train))\n",
    "print(f'\\nThe F1 score for the Random Forest classifier on training dataset is: {f1_score(y_train, y_pred_train):.3}\\n')"
   ]
  },
  {
   "cell_type": "markdown",
   "metadata": {},
   "source": [
    "Below I plot the F1_score for each of the hyperparameters combination as it is shown in the dataframe above. The column 'Combined_parameters' in the dataframe includes entries of three integers which represent the ( _max_depth, max_leaf_nodes, n_estimators_ ). \n",
    "<p>The same for the graph below, each value of the X-axis represents this tuple of hyperparameters. I also highlighted in red the highest score which makes it easier to recognise from the graph."
   ]
  },
  {
   "cell_type": "code",
   "execution_count": 642,
   "metadata": {},
   "outputs": [
    {
     "data": {
      "image/png": "[encoded data removed]",
      "text/plain": [
       "<Figure size 2520x1440 with 1 Axes>"
      ]
     },
     "metadata": {
      "needs_background": "light"
     },
     "output_type": "display_data"
    }
   ],
   "source": [
    "#plot the scoring graph \n",
    "scores = RF_grid_results.F1_score\n",
    "combined_params = RF_grid_results.Combined_parameters\n",
    "fig = plt.figure(figsize=(35,20))\n",
    "plt.bar(combined_params, scores)\n",
    "plt.xticks(combined_params, labels=combined_params,rotation=90)\n",
    "plt.yticks(np.arange(0.9,1,0.002).round(3), labels=np.arange(0.9,1,0.002).round(3))\n",
    "plt.ylabel('F1 score', fontdict={'fontsize':20})\n",
    "plt.xlabel('Combined parameters', fontdict={'fontsize':20})\n",
    "plt.ylim(0.9, 1)\n",
    "#find the maximum score index\n",
    "max_idx = RF_grid_results.F1_score.idxmax()\n",
    "x = RF_grid_results.Combined_parameters[max_idx]\n",
    "y = RF_grid_results.F1_score[max_idx]\n",
    "#highlight in red the maximum socre on graph\n",
    "plt.bar(x, y, color='red')\n",
    "plt.annotate('highest score', xy=(x,y+0.001), fontsize=20, color='red')\n",
    "plt.title('Random Forest optimisation scores', fontdict={'fontsize':30})\n",
    "plt.grid()\n"
   ]
  },
  {
   "cell_type": "code",
   "execution_count": null,
   "metadata": {},
   "outputs": [],
   "source": []
  },
  {
   "cell_type": "markdown",
   "metadata": {},
   "source": [
    "## Comparison of metrics performance for testing \n",
    "\n"
   ]
  },
  {
   "cell_type": "markdown",
   "metadata": {},
   "source": [
    "### Use of cross validation for both techniques to deal with over-fitting"
   ]
  },
  {
   "cell_type": "markdown",
   "metadata": {},
   "source": [
    "I have demonstarted the use of cross validation in both techniques above, KNN and RandomForest classifiers, which help to minimise overfitting and reduce the model variance. Specifically I have applied sttatified cross-validation since the dataset is largely imbalanced: 95% of normal cases vs 5% of fraudulent cases.\n",
    "\n",
    "The cross validation (using GridSearch) scores are averaged and give a more holistic understanding on the model behaviour for each split of the data. The data are shuffled multiple times to esnure that a diversity of samples is preserved to enhance decorrelated computations.  \n",
    "\n",
    "Let's view the cross validation scores for each of the estimators."
   ]
  },
  {
   "cell_type": "code",
   "execution_count": 643,
   "metadata": {},
   "outputs": [
    {
     "name": "stdout",
     "output_type": "stream",
     "text": [
      "The averaged cross-validation scores for each run for the KNN classifer are:\n",
      "\n",
      "[0.97804629 0.97104313 0.9683432  0.96434123 0.96434313 0.96023832\n",
      " 0.958868   0.95479339 0.95346051 0.94791404] \n",
      "\n"
     ]
    }
   ],
   "source": [
    "print('The averaged cross-validation scores for each run for the KNN classifer are:\\n')\n",
    "print(test_model_KNN.cv_results_['mean_test_score'],'\\n')"
   ]
  },
  {
   "cell_type": "code",
   "execution_count": 644,
   "metadata": {},
   "outputs": [
    {
     "name": "stdout",
     "output_type": "stream",
     "text": [
      "The averaged cross-validation scores for each run for the Random Forest classifer are:\n",
      "\n",
      "[0.82564906 0.8894748  0.88648068 0.88274441 0.87881466 0.9251731\n",
      " 0.93660891 0.93801558 0.92808435 0.92302443 0.90323558 0.96598947\n",
      " 0.9405435  0.9331543  0.94647694 0.92261902 0.92383569 0.92419781\n",
      " 0.95132281 0.94085926 0.87385894 0.88655363 0.88895903 0.89264824\n",
      " 0.89081912 0.91954251 0.96700094 0.95882372 0.97442951 0.9674022\n",
      " 0.94629483 0.9860069  0.98693888 0.99487095 0.99487095 0.954959\n",
      " 0.99487095 0.99357267 0.99487095 0.99487095 0.81781616 0.88557711\n",
      " 0.89167722 0.8874719  0.88687925 0.94799422 0.96908844 0.96903422\n",
      " 0.9553005  0.98816685 0.97924236 0.99083807 0.98783632 0.99357267\n",
      " 0.99487095 0.97740941 0.99087095 0.99357267 0.99487095 0.99487095\n",
      " 0.78474807 0.87414156 0.88268806 0.89258517 0.89113227 0.92669769\n",
      " 0.96877797 0.94918934 0.99073137 0.97699278 0.93220082 0.98390734\n",
      " 0.99613677 0.99487095 0.99357267 0.96034923 0.99230727 0.99487095\n",
      " 0.99487095 0.99483807 0.87586006 0.87439363 0.88413389 0.88746573\n",
      " 0.88121675 0.93136459 0.95748944 0.96728552 0.96303697 0.98262326\n",
      " 0.95058657 0.98802867 0.99357267 0.99357267 0.99483807 0.96741296\n",
      " 0.99087095 0.98957267 0.99487095 0.99487095 0.86907857 0.8933784\n",
      " 0.89269976 0.8889323  0.89434854 0.91961192 0.9640497  0.96596276\n",
      " 0.97004154 0.97998587 0.96069745 0.99230727 0.98653762 0.98830951\n",
      " 0.99487095 0.957571   0.99487095 0.99360513 0.99487095 0.99487095\n",
      " 0.85085234 0.8896292  0.87808755 0.88669003 0.89864275 0.91594581\n",
      " 0.96228138 0.93835065 0.98005627 0.98123892 0.93797973 0.99360513\n",
      " 0.98390734 0.99487095 0.99487095 0.93452948 0.99360555 0.99357267\n",
      " 0.99487095 0.99487095 0.80596043 0.87695682 0.88268806 0.89403833\n",
      " 0.88898535 0.89908941 0.96750284 0.98830685 0.96495359 0.9525663\n",
      " 0.95650525 0.98084498 0.99483807 0.99613677 0.99487095 0.9588248\n",
      " 0.99487095 0.99487095 0.99613677 0.99487095 0.81880747 0.87494094\n",
      " 0.88336346 0.88754082 0.88586792 0.94792236 0.96740298 0.97143662\n",
      " 0.9730671  0.98020098 0.92885223 0.98830727 0.99360513 0.99357267\n",
      " 0.99357267 0.9672178  0.97526852 0.99357267 0.99360555 0.99487095] \n",
      "\n"
     ]
    }
   ],
   "source": [
    "print('The averaged cross-validation scores for each run for the Random Forest classifer are:\\n')\n",
    "print(test_model_RF.cv_results_['mean_test_score'],'\\n')"
   ]
  },
  {
   "cell_type": "markdown",
   "metadata": {},
   "source": [
    "### Comparison with appropriate metrics for testing"
   ]
  },
  {
   "cell_type": "markdown",
   "metadata": {},
   "source": [
    "Here I will perform the evauation of the two classifiers using the stratified X_test & y_test dataset obtained previously. It is also important to calculate the confusion matrix to understand how the models perform in relation to the business demands; meaning mimimise the False Negatives and False Positives instances.\n",
    "The best estimator from each model is used."
   ]
  },
  {
   "cell_type": "code",
   "execution_count": 645,
   "metadata": {},
   "outputs": [
    {
     "name": "stdout",
     "output_type": "stream",
     "text": [
      "              precision    recall  f1-score   support\n",
      "\n",
      "           0       1.00      1.00      1.00      1902\n",
      "           1       0.99      0.94      0.96        98\n",
      "\n",
      "    accuracy                           1.00      2000\n",
      "   macro avg       0.99      0.97      0.98      2000\n",
      "weighted avg       1.00      1.00      1.00      2000\n",
      "\n",
      "\n",
      "The fraudulent class F1 score for the KNN classifier on testing dataset is: 0.963\n",
      "\n"
     ]
    }
   ],
   "source": [
    "#Evaluation metrics for KNN model\n",
    "#use best estimator for predicting the labels on the testing set\n",
    "y_pred_KNN = test_model_KNN.best_estimator_.predict(X_test)\n",
    "#print classification report\n",
    "print(classification_report(y_test, y_pred_KNN))\n",
    "print(f'\\nThe fraudulent class F1 score for the KNN classifier on testing dataset is: {f1_score(y_test, y_pred_KNN):.3}\\n')"
   ]
  },
  {
   "cell_type": "code",
   "execution_count": 646,
   "metadata": {},
   "outputs": [
    {
     "name": "stdout",
     "output_type": "stream",
     "text": [
      "              precision    recall  f1-score   support\n",
      "\n",
      "           0       1.00      1.00      1.00      1902\n",
      "           1       0.99      0.97      0.98        98\n",
      "\n",
      "    accuracy                           1.00      2000\n",
      "   macro avg       0.99      0.98      0.99      2000\n",
      "weighted avg       1.00      1.00      1.00      2000\n",
      "\n",
      "\n",
      "The fraudulent class F1 score for the Random Forest classifier on testing dataset is: 0.979\n",
      "\n"
     ]
    }
   ],
   "source": [
    "#Evaluation metrics for RF model\n",
    "#use best estimator for predicting the labels on the testing set\n",
    "y_pred_RF = test_model_RF.best_estimator_.predict(X_test)\n",
    "#print classification report\n",
    "print(classification_report(y_test, y_pred_RF))\n",
    "print(f'\\nThe fraudulent class F1 score for the Random Forest classifier on testing dataset is: {f1_score(y_test, y_pred_RF):.3}\\n')"
   ]
  },
  {
   "cell_type": "markdown",
   "metadata": {},
   "source": [
    "Based on the scoring using the test sets on both classifiers it is demonstrated that the Random Forest classifier outperforms the KNN classifier. How much better is Random Forest classifer doing in terms of meeting the business case criteria?\n",
    "\n",
    "Remind that the business criteria are:\n",
    "* Achieve a Recall of >90% (with respect to the fraudulent class-1) - **achieved for both models**\n",
    "* Achieve a Precision of >70% (with respect to the fraudulent class-1) - **achieved for both models**\n",
    "* Do not exceed >30 of False Positives instances - **?**\n",
    "* Do not exceed >5 of False Negatives instances - **?**\n",
    "\n",
    "Below I will compare the models with respect to the financial losses."
   ]
  },
  {
   "cell_type": "code",
   "execution_count": 647,
   "metadata": {},
   "outputs": [],
   "source": [
    "#function to plot the confusion matrix\n",
    "def plot_confusion_matrix(ytrue, ypred, labels,title, normalise=False):\n",
    "    \"\"\"\n",
    "    This function plots confusion matrix. \n",
    "    If Normalize='True' plot with normalised values.\n",
    "\n",
    "    \"\"\"\n",
    "    cm = confusion_matrix(ytrue, ypred, labels=labels)\n",
    "    plt.figure(figsize=(5,5))\n",
    "    if normalise:\n",
    "        cm = cm/ cm.sum(axis=1)\n",
    "    plt.imshow(cm, interpolation='nearest', cmap=plt.cm.Purples)\n",
    "    ticks = np.arange(len(labels))\n",
    "    plt.xticks(ticks, labels)\n",
    "    plt.yticks(ticks, labels)\n",
    "    #format and show values in the matrix \n",
    "    if normalise:\n",
    "        type_format = '.2f'\n",
    "    else:\n",
    "        type_format = 'd'\n",
    "    #set threshold for value visibility\n",
    "    threshold = cm.max() / 2\n",
    "    for i in range(cm.shape[0]):\n",
    "        for j in range(cm.shape[1]):\n",
    "            plt.text(j, i, format(cm[i, j], type_format), horizontalalignment=\"center\",color=\"white\" if cm[i, j] > threshold else \"black\")\n",
    "    plt.tight_layout()\n",
    "    plt.title(title)\n",
    "    plt.ylabel('True class')\n",
    "    plt.xlabel('Predicted class')\n",
    "    \n",
    "#function to retrieve FP,FN,TP,TN counts\n",
    "def class_predictions(ytrue, ypred, labels):\n",
    "    \"\"\"\n",
    "    Accepts the labels in [1,0] format. True label first.\n",
    "    Returns TP, FP, TN, FN\n",
    "\n",
    "    \"\"\"    \n",
    "    cm = confusion_matrix(ytrue, ypred, labels=labels)\n",
    "    TP=FP=TN=FN = 0\n",
    "    #get the TP \n",
    "    TP = cm[0,0]\n",
    "    #get the TN\n",
    "    TN = cm[1,1]\n",
    "    #get the FN\n",
    "    FN = cm[0,1]\n",
    "    #get the FP\n",
    "    FP = cm[1,0]\n",
    "    return TP,FP,TN,FN\n",
    "    "
   ]
  },
  {
   "cell_type": "code",
   "execution_count": 648,
   "metadata": {},
   "outputs": [
    {
     "data": {
      "image/png": "[encoded data removed]",
      "text/plain": [
       "<Figure size 360x360 with 1 Axes>"
      ]
     },
     "metadata": {
      "needs_background": "light"
     },
     "output_type": "display_data"
    }
   ],
   "source": [
    "#plot confusion matrix for KNN classifier\n",
    "plot_confusion_matrix(y_test, y_pred_KNN, labels=[1,0], title='KNN Confusion Matrix', normalise=False)\n",
    "TP, FP, TN, FN = class_predictions(y_test, y_pred_KNN, labels=[1,0])\n"
   ]
  },
  {
   "cell_type": "code",
   "execution_count": 649,
   "metadata": {},
   "outputs": [
    {
     "name": "stdout",
     "output_type": "stream",
     "text": [
      "KNN classifier returns 1 False Positives. At the cost of £1k for each FP the financial loss = £1k x 1 = £1k\n",
      "\n",
      "KNN classifier returns 6 False Negatives. At the cost of £10k for each FP the financial loss = £10k x 6 = £60k\n",
      "\n",
      "The total financial loss for the KNN model is £60k + £1k = £61k\n"
     ]
    }
   ],
   "source": [
    "print(f'KNN classifier returns {FP} False Positives. At the cost of £1k for each FP the financial loss = £1k x {FP} = £{1*FP}k\\n')\n",
    "print(f'KNN classifier returns {FN} False Negatives. At the cost of £10k for each FP the financial loss = £10k x {FN} = £{10*FN}k\\n')\n",
    "print(f'The total financial loss for the KNN model is £{10*FN}k + £{1*FP}k = £{1*FP + 10*FN}k')"
   ]
  },
  {
   "cell_type": "code",
   "execution_count": 650,
   "metadata": {},
   "outputs": [
    {
     "data": {
      "image/png": "[encoded data removed]",
      "text/plain": [
       "<Figure size 360x360 with 1 Axes>"
      ]
     },
     "metadata": {
      "needs_background": "light"
     },
     "output_type": "display_data"
    }
   ],
   "source": [
    "#plot confusion matrix for Random Forest classifier\n",
    "plot_confusion_matrix(y_test, y_pred_RF, labels=[1,0], title='Random Forest Confusion Matrix', normalise=False)\n",
    "TP, FP, TN, FN = class_predictions(y_test, y_pred_RF,labels=[1,0])\n"
   ]
  },
  {
   "cell_type": "code",
   "execution_count": 651,
   "metadata": {},
   "outputs": [
    {
     "name": "stdout",
     "output_type": "stream",
     "text": [
      "RF classifier returns 1 False Positives. At the cost of £1k for each FP the financial loss = £1k x 1 = £1k\n",
      "\n",
      "RF classifier returns 3 False Negatives. At the cost of £10k for each FP the financial loss = £10k x 3 = £30k\n",
      "\n",
      "The total financial loss for the RF model is £30k + £1k = £31k\n",
      "\n"
     ]
    }
   ],
   "source": [
    "print(f'RF classifier returns {FP} False Positives. At the cost of £1k for each FP the financial loss = £1k x {FP} = £{1*FP}k\\n')\n",
    "print(f'RF classifier returns {FN} False Negatives. At the cost of £10k for each FP the financial loss = £10k x {FN} = £{10*FN}k\\n')\n",
    "print(f'The total financial loss for the RF model is £{10*FN}k + £{1*FP}k = £{1*FP + 10*FN}k\\n')"
   ]
  },
  {
   "cell_type": "markdown",
   "metadata": {},
   "source": [
    "Its is obvious that Random Forest classifier will tend to be the better option for this application and achieve higher financial savings."
   ]
  },
  {
   "cell_type": "markdown",
   "metadata": {},
   "source": [
    "### Model selection  - comparison"
   ]
  },
  {
   "cell_type": "markdown",
   "metadata": {},
   "source": [
    "The Area Under Curve score and the ROC curves are good method to compare different classification models. Particularly in this problem, since we care more about the False Negative predictions because they cost more money to the bank, we want to compare and identify whiuch model minimises best the False Negatives. For this reason we expect to see on the ROC curve a high True Positive rate which will push the ROC curve towards the uppper left corner of the graph.  \n",
    "\n",
    "References:\n",
    "\n",
    "Scikit-learn developers 2020. Receiver Operating Characteristic website. [Online]. [Accessed 25 June 2021]. Available from: https://scikit-learn.org "
   ]
  },
  {
   "cell_type": "code",
   "execution_count": 652,
   "metadata": {},
   "outputs": [],
   "source": [
    "#calculate KNN probabilities \n",
    "y_prob_test_KNN = test_model_KNN.best_estimator_.predict_proba(X_test)"
   ]
  },
  {
   "cell_type": "code",
   "execution_count": 653,
   "metadata": {},
   "outputs": [],
   "source": [
    "#calculate RF probabilities \n",
    "y_prob_test_RF = test_model_RF.best_estimator_.predict_proba(X_test)"
   ]
  },
  {
   "cell_type": "code",
   "execution_count": 654,
   "metadata": {},
   "outputs": [
    {
     "name": "stdout",
     "output_type": "stream",
     "text": [
      "The KNN ROC Area Under Curve is 0.969\n",
      "The Random Forest ROC Area Under Curve is 1.000\n"
     ]
    },
    {
     "data": {
      "image/png": "[encoded data removed]",
      "text/plain": [
       "<Figure size 720x360 with 1 Axes>"
      ]
     },
     "metadata": {
      "needs_background": "light"
     },
     "output_type": "display_data"
    }
   ],
   "source": [
    "# calculate the Area Under Curve scores\n",
    "KNN_auc_score = roc_auc_score(y_test,y_prob_test_KNN[:, 1])\n",
    "RF_auc_score = roc_auc_score(y_test, y_prob_test_RF[:, 1])\n",
    "# print the AUC scores\n",
    "print(f'The KNN ROC Area Under Curve is {KNN_auc_score:.3f}')\n",
    "print(f'The Random Forest ROC Area Under Curve is {RF_auc_score:.3f}')      \n",
    "# calculate the ROC curves\n",
    "fpr_KNN, tpr_KNN, thresholds_KNN = roc_curve(y_test,y_prob_test_KNN[:, 1])\n",
    "fpr_RF, tpr_RF, thresholds_RF = roc_curve(y_test, y_prob_test_RF[:, 1])\n",
    "# plot the ROC curves for each model\n",
    "plt.figure(figsize=(10,5))\n",
    "plt.plot(fpr_KNN, tpr_KNN, label='KNN')\n",
    "plt.plot(fpr_RF, tpr_RF, label='RF')\n",
    "plt.plot([0, 1], [0, 1], color='k',linestyle=':')\n",
    "plt.xlabel('False Positive Rate')\n",
    "plt.ylabel('True Positive Rate')\n",
    "plt.title('Area Under Curve')\n",
    "plt.legend()\n",
    "plt.show()"
   ]
  },
  {
   "cell_type": "markdown",
   "metadata": {},
   "source": [
    "From the ROC graph, both models perform really well for this problem. Especially the Random Forest classifier performs even better than the KNN classifier and this is also demonstarted by the calculated areas under curve, in which Random Forest classifier achieves a higher score. "
   ]
  },
  {
   "cell_type": "markdown",
   "metadata": {},
   "source": [
    "## Final recommendation of best model"
   ]
  },
  {
   "cell_type": "markdown",
   "metadata": {},
   "source": [
    "* In this problem, both models KNN classifier and Random Forest classifier performed well on classifying the fraudulent credit card transactions.\n",
    "* Even though both estimators achieved very high performance metrics, close to 100%, it has been demonstarted that the Random Forest model outperforms the KNN model. As it was explained above, this in effect, demonstrates how powerful are ensemble methods.\n",
    "* Both models have performed well with respect to avoing overfitting. This is understood by comparing the performance scores of predictions using the training and testing datasets separately. Both training and testing performance metrics are very close, which is the indicator that the models do not overfit. Refer to the classification scores above. \n",
    "* The use of stratified sampling and cross validation with GridSearch method has helped to achieve model optimisation. \n",
    "* KNN classifier can be extremely fast, once all distances between the points (samples) have been calculated. However, when a new instance is given to be classified, the algorithm will need to re-estimate all the distances between the samples. During model optimisation the model concludes to the best parameters very fast as the only major parameter to be optimised is the K-Neighbours.\n",
    "* Random Forest is also a fast algorithm to train but once the best estimator is selected, future instances are faster to calculate than KNN classifier since there is no need to re-train the model. During optimisation process, Random Forest classifier takes significantly more time than the KNN classifier to conclude on the best estimator due to the higher number of model hyperparameters and the combinations that grid search needs to compare.  "
   ]
  },
  {
   "cell_type": "markdown",
   "metadata": {},
   "source": [
    "### Review results from a business perspective\n"
   ]
  },
  {
   "cell_type": "markdown",
   "metadata": {},
   "source": [
    "As it has been demonstrated above, from a business point of view both models are able to achieve the desired Recall (>90%) and Precission (>70%) as specified by the client (the bank).\n",
    "\n",
    "The most important comparison from the financial point of view is the running costs of the models based on their capabilities to minimise the False Positives and False Negatives instances. And as it has been shown, the Random Forest classifier is able to achieve substantial financial savings for the bank. \n",
    "\n",
    "Based on the overall performance metrics and the financial savings, the recommendatioin to be put forward to the bank, is to deploy the Random Forest classifier. "
   ]
  },
  {
   "cell_type": "markdown",
   "metadata": {},
   "source": [
    "## Conclusion"
   ]
  },
  {
   "cell_type": "markdown",
   "metadata": {},
   "source": [
    "* The project has succesfully proven and concluded that the Random Forest classifier outperforms the KNN classifier and is able to meet the financial expenditures set by the bank. Therefore the recommended model to be deployed is Random Forest Classifier.\n",
    "* The project succeeded in setting up appropriately the machine learning models to achieve very high performance scores to meet the business requirements."
   ]
  },
  {
   "cell_type": "markdown",
   "metadata": {},
   "source": [
    "### Future work"
   ]
  },
  {
   "cell_type": "markdown",
   "metadata": {},
   "source": [
    "A list of future work I would recommend for further development is:\n",
    "\n",
    "* Develop a logistic regression model and perform classification with the model. The logistic regression model is ideal to deal with this bulk of data and numerical features. The logistic regresssion model also provides the benefit of using the weights from each feature and perform feature engineering to narrow down the dataset only to the most important features, ie. to the features highly correlated to the target label.\n",
    "* Perform PCA on the data for dimensionality reduction and draw the explained variance graph. This is a mathematically more sophisticated method to obtaon the attributes which carry the most of information (explained variance) to be used by the model.\n",
    "* I also recommend to test the above trained machine learning algorithms on larger dataset which will enable for better model optimisation and help with achieving good generalisation. \n",
    "* Perform model optimisation including more parameters and consider a higher combination of hyperparameters."
   ]
  },
  {
   "cell_type": "code",
   "execution_count": null,
   "metadata": {},
   "outputs": [],
   "source": []
  },
  {
   "cell_type": "code",
   "execution_count": null,
   "metadata": {},
   "outputs": [],
   "source": []
  }
 ],
 "metadata": {
  "kernelspec": {
   "display_name": "Python 3",
   "language": "python",
   "name": "python3"
  },
  "language_info": {
   "codemirror_mode": {
    "name": "ipython",
    "version": 3
   },
   "file_extension": ".py",
   "mimetype": "text/x-python",
   "name": "python",
   "nbconvert_exporter": "python",
   "pygments_lexer": "ipython3",
   "version": "3.8.5"
  }
 },
 "nbformat": 4,
 "nbformat_minor": 4
}
